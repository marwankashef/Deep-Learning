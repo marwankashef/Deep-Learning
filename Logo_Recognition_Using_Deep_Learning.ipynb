{
  "nbformat": 4,
  "nbformat_minor": 0,
  "metadata": {
    "colab": {
      "name": "Logo Recognition Using Deep Learning.ipynb",
      "provenance": [],
      "collapsed_sections": [],
      "machine_shape": "hm",
      "include_colab_link": true
    },
    "kernelspec": {
      "name": "python3",
      "display_name": "Python 3"
    },
    "accelerator": "TPU"
  },
  "cells": [
    {
      "cell_type": "markdown",
      "metadata": {
        "id": "view-in-github",
        "colab_type": "text"
      },
      "source": [
        "<a href=\"https://colab.research.google.com/github/marwankashef/Deep_Learning_Logo_Recognition/blob/master/Logo_Recognition_Using_Deep_Learning.ipynb\" target=\"_parent\"><img src=\"https://colab.research.google.com/assets/colab-badge.svg\" alt=\"Open In Colab\"/></a>"
      ]
    },
    {
      "cell_type": "markdown",
      "metadata": {
        "id": "JVJBLM38DZ07",
        "colab_type": "text"
      },
      "source": [
        "### Check Core Library Versions"
      ]
    },
    {
      "cell_type": "code",
      "metadata": {
        "id": "mCH4cmHYC-Uw",
        "colab_type": "code",
        "colab": {}
      },
      "source": [
        "from keras import __version__\n",
        "from tensorflow.keras import backend as K\n",
        "\n",
        "print('Using Keras version:', __version__, 'backend:', K.backend())"
      ],
      "execution_count": 0,
      "outputs": []
    },
    {
      "cell_type": "code",
      "metadata": {
        "id": "oY0vvyRiDIE9",
        "colab_type": "code",
        "colab": {}
      },
      "source": [
        "from tensorflow import __version__\n",
        "from tensorflow.keras import backend as K\n",
        "\n",
        "print('Using Tensorflow version:', __version__, 'backend:', K.backend())"
      ],
      "execution_count": 0,
      "outputs": []
    },
    {
      "cell_type": "markdown",
      "metadata": {
        "id": "DjVG7YUOGbtg",
        "colab_type": "text"
      },
      "source": [
        "### New Library Installations"
      ]
    },
    {
      "cell_type": "code",
      "metadata": {
        "id": "zSd-SVoBBLF_",
        "colab_type": "code",
        "colab": {}
      },
      "source": [
        "!pip install hyperas"
      ],
      "execution_count": 0,
      "outputs": []
    },
    {
      "cell_type": "code",
      "metadata": {
        "id": "vjZWQIAuYsMg",
        "colab_type": "code",
        "colab": {}
      },
      "source": [
        "!pip install h5py pyyaml"
      ],
      "execution_count": 0,
      "outputs": []
    },
    {
      "cell_type": "code",
      "metadata": {
        "id": "ak0mqZA_-OCD",
        "colab_type": "code",
        "colab": {}
      },
      "source": [
        "pip install split-folders tqdm"
      ],
      "execution_count": 0,
      "outputs": []
    },
    {
      "cell_type": "code",
      "metadata": {
        "id": "do_H0y7rJDvf",
        "colab_type": "code",
        "colab": {}
      },
      "source": [
        "pip install python-resize-image"
      ],
      "execution_count": 0,
      "outputs": []
    },
    {
      "cell_type": "markdown",
      "metadata": {
        "id": "8H1iLyyDGjkm",
        "colab_type": "text"
      },
      "source": [
        "### Library Imports\n"
      ]
    },
    {
      "cell_type": "code",
      "metadata": {
        "id": "NrWaAV7Te-PZ",
        "colab_type": "code",
        "colab": {}
      },
      "source": [
        "# UX\n",
        "\n",
        "import warnings\n",
        "with warnings.catch_warnings():\n",
        "    warnings.filterwarnings(\"ignore\",category=DeprecationWarning)\n",
        "\n",
        "from tqdm import tqdm\n",
        "\n",
        "# Numpy\n",
        "import numpy as np\n",
        "from numpy import mean\n",
        "\n",
        "# Pandas\n",
        "import pandas as pd\n",
        "\n",
        "# Matplotlib\n",
        "import matplotlib.pyplot as plt\n",
        "\n",
        "# Directory-based\n",
        "\n",
        "from glob import glob\n",
        "import os\n",
        "import pathlib\n",
        "import signal\n",
        "\n",
        "# General Pythonic Operations\n",
        "\n",
        "import IPython.display as display\n",
        "from PIL import Image\n",
        "from google.colab import files\n",
        "\n",
        "import re\n",
        "import json\n",
        "import shutil\n",
        "import math\n",
        "\n",
        "\n",
        "# Sci-Kit Learn\n",
        "\n",
        "from sklearn.preprocessing import LabelBinarizer\n",
        "from sklearn.preprocessing import OneHotEncoder\n",
        "\n",
        "# Tensorflow\n",
        "\n",
        "import tensorflow as tf\n",
        "\n",
        "from tensorflow.keras import layers\n",
        "from tensorflow.keras import models\n",
        "from tensorflow.keras import optimizers\n",
        "from tensorflow.keras import backend as K\n",
        "\n",
        "from tensorflow.keras.preprocessing.image import ImageDataGenerator\n",
        "\n",
        "from keras.models import Sequential\n",
        "from keras.models import load_model\n",
        "from keras.layers import Conv2D, MaxPooling2D\n",
        "from keras.layers import Activation, Dropout, Flatten, Dense\n",
        "from keras.callbacks import ModelCheckpoint, EarlyStopping, ReduceLROnPlateau\n",
        "from keras import backend as K\n",
        "\n",
        "# Splitting Folders into Train/Test/Split\n",
        "\n",
        "import split_folders\n",
        "\n",
        "# Transfer Learning\n",
        "\n",
        "from tensorflow.keras.applications import VGG16\n",
        "from tensorflow.keras.applications import VGG19\n",
        "from tensorflow.keras.applications import InceptionV3\n",
        "from tensorflow.keras.applications import ResNet50\n",
        "from tensorflow.keras.applications import Xception\n",
        "\n",
        "from tensorflow.keras.models import Sequential\n",
        "from tensorflow.keras.layers import InputLayer\n",
        "\n",
        "# Hyperas\n",
        "\n",
        "from hyperas import optim\n",
        "from hyperopt import Trials, STATUS_OK, tpe\n",
        "from hyperas.distributions import choice, uniform\n",
        "import h5py\n",
        "\n",
        "# Google Colab-specific\n",
        "\n",
        "from tensorboardcolab import *\n",
        "\n",
        "# For Computing Image Similarity\n",
        "\n",
        "from skimage.measure import compare_ssim as ssim \n",
        "import cv2\n",
        "import random\n",
        "from matplotlib.image import imread\n",
        "from scipy.spatial import distance\n",
        "from PIL import Image\n",
        "from resizeimage import resizeimage\n",
        "from tqdm import tnrange, tqdm_notebook"
      ],
      "execution_count": 0,
      "outputs": []
    },
    {
      "cell_type": "markdown",
      "metadata": {
        "id": "qZ2eTAx-fSii",
        "colab_type": "text"
      },
      "source": [
        "## **1. Import and Extract Data**"
      ]
    },
    {
      "cell_type": "code",
      "metadata": {
        "id": "zp04ktNWTYWB",
        "colab_type": "code",
        "colab": {}
      },
      "source": [
        "# Code used to import data sitting in Gdrive into the Colab session\n",
        "\n",
        "from google.colab import drive\n",
        "\n",
        "drive.mount('/content/drive',force_remount=True)"
      ],
      "execution_count": 0,
      "outputs": []
    },
    {
      "cell_type": "code",
      "metadata": {
        "id": "fTlkuVK0seVz",
        "colab_type": "code",
        "cellView": "code",
        "colab": {}
      },
      "source": [
        "# Unzipping the full Logo Dataset from the Gdrive\n",
        "\n",
        "!unzip -o \"/content/drive/My Drive/Logo_Dataset.zip\""
      ],
      "execution_count": 0,
      "outputs": []
    },
    {
      "cell_type": "markdown",
      "metadata": {
        "id": "pu2EMbw1fJI2",
        "colab_type": "text"
      },
      "source": [
        "## **2. Explore the Image Dataset**"
      ]
    },
    {
      "cell_type": "code",
      "metadata": {
        "id": "IKoPgaHleJxH",
        "colab_type": "code",
        "colab": {}
      },
      "source": [
        "# Looking into the Logo Dataset to gauge whether the folders are coming in as expected\n",
        "\n",
        "path_of_data = '/content/Logo_Dataset'\n",
        "data_directory = pathlib.Path(path_of_data)\n",
        "!ls {path_of_data}"
      ],
      "execution_count": 0,
      "outputs": []
    },
    {
      "cell_type": "code",
      "metadata": {
        "id": "puCrCNjut2Mt",
        "colab_type": "code",
        "colab": {}
      },
      "source": [
        "# Restructuring the list above to better inspect\n",
        "\n",
        "os.chdir(path_of_data)\n",
        "logo_list = list(filter(lambda x: os.path.isdir(x), os.listdir()))\n",
        "for logo in logo_list:\n",
        "  print(logo)"
      ],
      "execution_count": 0,
      "outputs": []
    },
    {
      "cell_type": "code",
      "metadata": {
        "id": "UImlwiNQPFxS",
        "colab_type": "code",
        "colab": {}
      },
      "source": [
        "# Looping between the various directories in Logo Dataset to gauge the total number of folders\n",
        "\n",
        "folder_counter = 0\n",
        "image_counter = 0\n",
        "\n",
        "for folder in os.listdir(path_of_data):\n",
        "  folder_counter = folder_counter + 1\n",
        "  for image in os.listdir(path_of_data):\n",
        "    image_counter = image_counter + 1\n",
        "\n",
        "print(\"There are \" + str(folder_counter) + \" folders\")"
      ],
      "execution_count": 0,
      "outputs": []
    },
    {
      "cell_type": "code",
      "metadata": {
        "id": "A2rCLef4dBet",
        "colab_type": "code",
        "colab": {}
      },
      "source": [
        "# Looping in each directory to gauge the total number of images in the entire dataset\n",
        "\n",
        "data_dir = pathlib.Path(path_of_data)\n",
        "total_image_count = len(list(data_dir.glob('*/*.jpg')))\n",
        "print(\"There are\",total_image_count,\"total images in this folder\")"
      ],
      "execution_count": 0,
      "outputs": []
    },
    {
      "cell_type": "code",
      "metadata": {
        "id": "zj1AYykskL3-",
        "colab_type": "code",
        "colab": {}
      },
      "source": [
        "# Looping in each directory and printing the number of files in the directory to gauge any corrupted or temp files that might be coming through\n",
        "\n",
        "images_per_folder = 0  # total files\n",
        "\n",
        "for dirpath, dirnames, filenames in os.walk(path_of_data):\n",
        "    image_count = len(filenames)\n",
        "    images_per_folder += image_count\n",
        "    name_output = str(dirpath)\n",
        "    name_output = name_output.split('/')[3:]\n",
        "    print(\"Files in \", str(name_output), \":\", image_count)"
      ],
      "execution_count": 0,
      "outputs": []
    },
    {
      "cell_type": "markdown",
      "metadata": {
        "id": "5-OTAcCWf20R",
        "colab_type": "text"
      },
      "source": [
        "## **3. Create Training/Validation/Test Sets from the Data**"
      ]
    },
    {
      "cell_type": "code",
      "metadata": {
        "id": "2Z_JI0dyiflq",
        "colab_type": "code",
        "colab": {}
      },
      "source": [
        "# Redirecting path to general folder space\n",
        "\n",
        "os.chdir(r\"/content/\")"
      ],
      "execution_count": 0,
      "outputs": []
    },
    {
      "cell_type": "code",
      "metadata": {
        "id": "-2HG63hriAbJ",
        "colab_type": "code",
        "colab": {}
      },
      "source": [
        "# Double-checking that you're in the right directory\n",
        "\n",
        "os.getcwd()"
      ],
      "execution_count": 0,
      "outputs": []
    },
    {
      "cell_type": "code",
      "metadata": {
        "id": "a4j6rUWeqsif",
        "colab_type": "code",
        "colab": {}
      },
      "source": [
        "# Split the image data into training, testing, and validation sets\n",
        "\n",
        "output_dir = '/content/'\n",
        "\n",
        "train_ratio = 0.6\n",
        "validation_ratio = 0.2\n",
        "test_ratio = 0.2\n",
        "\n",
        "# To only split into training and validation set, set a tuple to 'ratio'\n",
        "split_folders.ratio(path_of_data, output = output_dir, seed=1337, ratio=(train_ratio, validation_ratio, test_ratio)) # default values"
      ],
      "execution_count": 0,
      "outputs": []
    },
    {
      "cell_type": "markdown",
      "metadata": {
        "id": "KxdYP28vLVYD",
        "colab_type": "text"
      },
      "source": [
        "## **4. Creating CNN Model From Scratch**"
      ]
    },
    {
      "cell_type": "code",
      "metadata": {
        "id": "XozNnN1RpEfX",
        "colab_type": "code",
        "colab": {}
      },
      "source": [
        "# Creating variables referring to the paths of the training, testing, and validation sets to be used by the ImageDataGenerator\n",
        "\n",
        "train_dir = '/content/train'\n",
        "validation_dir = '/content/val'\n",
        "test_dir = '/content/test'"
      ],
      "execution_count": 0,
      "outputs": []
    },
    {
      "cell_type": "code",
      "metadata": {
        "id": "0WsT7VzXZWr6",
        "colab_type": "code",
        "colab": {}
      },
      "source": [
        "# Set Batch, Image Input, and Class Size\n",
        "\n",
        "BATCH_SIZE = 32\n",
        "IMG_HEIGHT = 256\n",
        "IMG_WIDTH = 256\n",
        "CHANNELS = 3\n",
        "num_classes = 270"
      ],
      "execution_count": 0,
      "outputs": []
    },
    {
      "cell_type": "code",
      "metadata": {
        "id": "W7O0q7O3pFTc",
        "colab_type": "code",
        "colab": {}
      },
      "source": [
        "# Setting up ImageDataGenerator\n",
        "\n",
        "image_generator = ImageDataGenerator(\n",
        "    rescale=1./255,\n",
        "    shear_range = 0.20, # displaces fixed points of images\n",
        "    zoom_range=0.2, # zooming factor into images\n",
        "    rotation_range=40,  # randomly rotate images in the range\n",
        "    width_shift_range=0.2,  # randomly shifts images horizontally\n",
        "    height_shift_range=0.2,  # randomly shifts images vertically\n",
        "    horizontal_flip=True)  # randomly flips images\n",
        "\n",
        "# Setting up generalized generator\n",
        "\n",
        "test_datagen = ImageDataGenerator(rescale=1./255)\n",
        "\n",
        "# Setup test generator\n",
        "\n",
        "train_generator = image_generator.flow_from_directory(\n",
        "      train_dir,\n",
        "      target_size = (IMG_HEIGHT,IMG_WIDTH),\n",
        "      shuffle = True,\n",
        "      batch_size = BATCH_SIZE,\n",
        "      color_mode=\"rgb\",\n",
        "      class_mode = 'categorical',\n",
        "      seed=42\n",
        ")\n",
        "\n",
        "# Setup validation generator\n",
        "\n",
        "validation_generator = test_datagen.flow_from_directory(\n",
        "      validation_dir,\n",
        "      target_size = (IMG_HEIGHT,IMG_WIDTH),\n",
        "      shuffle = True,\n",
        "      batch_size = BATCH_SIZE,\n",
        "      color_mode=\"rgb\",\n",
        "      class_mode = 'categorical',\n",
        "      seed=42\n",
        ")\n",
        "\n",
        "# Setup test generator\n",
        "\n",
        "test_generator = test_datagen.flow_from_directory(\n",
        "    test_dir,\n",
        "    target_size=(IMG_HEIGHT, IMG_WIDTH),\n",
        "    shuffle=False,\n",
        "    batch_size=1,\n",
        "    color_mode=\"rgb\",\n",
        "    class_mode=None,\n",
        "    seed=42\n",
        ")"
      ],
      "execution_count": 0,
      "outputs": []
    },
    {
      "cell_type": "markdown",
      "metadata": {
        "id": "81hr1gJeW-IM",
        "colab_type": "text"
      },
      "source": [
        "### Model Architecture"
      ]
    },
    {
      "cell_type": "code",
      "metadata": {
        "id": "2WUnjmjbrBvh",
        "colab_type": "code",
        "colab": {}
      },
      "source": [
        "model = models.Sequential()\n",
        "\n",
        "model.add(layers.Conv2D(filters=32, kernel_size=(5,5), padding=\"same\", activation='relu', input_shape=(IMG_HEIGHT,IMG_WIDTH,CHANNELS)))\n",
        "model.add(layers.Conv2D(filters=32, kernel_size=(5,5),  padding=\"same\", activation='relu'))\n",
        "model.add(layers.Dropout(0.2))\n",
        "model.add(layers.MaxPooling2D((2,2)))\n",
        "\n",
        "model.add(layers.Conv2D(filters=32, kernel_size=(5,5), padding=\"same\", activation='relu'))\n",
        "model.add(layers.Conv2D(filters=32, kernel_size=(5,5), activation='relu'))\n",
        "model.add(layers.Dropout(0.2))\n",
        "model.add(layers.MaxPooling2D((2,2)))\n",
        "\n",
        "model.add(layers.Conv2D(filters=64, kernel_size=(5,5), padding=\"same\", activation='relu'))\n",
        "model.add(layers.Conv2D(filters=64, kernel_size=(5,5), activation='relu'))\n",
        "model.add(layers.Dropout(0.2))\n",
        "model.add(layers.MaxPooling2D((2,2)))\n",
        "\n",
        "model.add(layers.Flatten())\n",
        "\n",
        "model.add(layers.Dense(512, activation='relu'))\n",
        "#model.add(layers.Dropout(0.2)) \n",
        "\n",
        "model.add(layers.Dense(num_classes, activation='softmax'))"
      ],
      "execution_count": 0,
      "outputs": []
    },
    {
      "cell_type": "code",
      "metadata": {
        "id": "q2rXE_qFeXq-",
        "colab_type": "code",
        "colab": {}
      },
      "source": [
        "# Uncomment the following code if you'd like to load the weights of a prior run\n",
        "\n",
        "#os.chdir('/content/drive/My Drive')\n",
        "\n",
        "#model.load_weights(\"weights-improvement-58-0.44.hdf5\")"
      ],
      "execution_count": 0,
      "outputs": []
    },
    {
      "cell_type": "code",
      "metadata": {
        "id": "EoFjVUpvpFdn",
        "colab_type": "code",
        "colab": {}
      },
      "source": [
        "# Preview what the architecture looks like\n",
        "\n",
        "model.summary()"
      ],
      "execution_count": 0,
      "outputs": []
    },
    {
      "cell_type": "code",
      "metadata": {
        "id": "hCx_WSmtpFoh",
        "colab_type": "code",
        "colab": {}
      },
      "source": [
        "# Compiling the model above - must be run in order for training to commence\n",
        "\n",
        "model.compile(loss='categorical_crossentropy',\n",
        "              optimizer=optimizers.RMSprop(lr=1e-4), \n",
        "              metrics=['acc'])"
      ],
      "execution_count": 0,
      "outputs": []
    },
    {
      "cell_type": "code",
      "metadata": {
        "id": "J3MnuZyS3C6c",
        "colab_type": "code",
        "colab": {}
      },
      "source": [
        "# Creating Folder to Store Checkpoints\n",
        "\n",
        "model_path = './model'\n",
        "\n",
        "!if [ -d $model_path ]; then echo 'Directory Exists'; else mkdir $model_path; fi\n",
        "\n",
        "filepath = model_path + \"/weights-improvement-{epoch:02d}-{val_acc:.2f}.hdf5\"\n",
        "checkpoint = ModelCheckpoint(filepath, monitor='val_acc', verbose=1, save_best_only=True, mode='auto', period=1)"
      ],
      "execution_count": 0,
      "outputs": []
    },
    {
      "cell_type": "code",
      "metadata": {
        "id": "EGAouwMC1dt2",
        "colab_type": "code",
        "colab": {}
      },
      "source": [
        "# Early Stopping\n",
        "\n",
        "early = EarlyStopping(monitor='val_acc', patience=15, verbose=1, mode='auto')\n"
      ],
      "execution_count": 0,
      "outputs": []
    },
    {
      "cell_type": "code",
      "metadata": {
        "id": "liZrXEOd0pEx",
        "colab_type": "code",
        "colab": {}
      },
      "source": [
        "# Loading Early Stopping and Checkpoint into list for generator\n",
        "\n",
        "callbacks_list = [early, checkpoint]"
      ],
      "execution_count": 0,
      "outputs": []
    },
    {
      "cell_type": "code",
      "metadata": {
        "id": "E7y-YXGCpFx_",
        "colab_type": "code",
        "colab": {}
      },
      "source": [
        "# Initiating Training Generator\n",
        "\n",
        "n_epoch = 120\n",
        "STEP_SIZE_TRAIN=train_generator.n//train_generator.batch_size\n",
        "STEP_SIZE_VALID=validation_generator.n//validation_generator.batch_size\n",
        "\n",
        "history_object = model.fit_generator(\n",
        "    generator=train_generator,\n",
        "    steps_per_epoch=STEP_SIZE_TRAIN,\n",
        "    validation_data=validation_generator,\n",
        "    validation_steps=STEP_SIZE_VALID,\n",
        "    callbacks=callbacks_list,\n",
        "    epochs=n_epoch)\n"
      ],
      "execution_count": 0,
      "outputs": []
    },
    {
      "cell_type": "code",
      "metadata": {
        "id": "WGt-szpepF6J",
        "colab_type": "code",
        "colab": {}
      },
      "source": [
        "# Plot the training and validation accuracy\n",
        "\n",
        "pd.DataFrame(history_object.history).plot(figsize=(8, 5))\n",
        "plt.grid(True)\n",
        "plt.gca().set_ylim(0,1)\n",
        "plt.show()"
      ],
      "execution_count": 0,
      "outputs": []
    },
    {
      "cell_type": "code",
      "metadata": {
        "id": "pGYIt_f81XEg",
        "colab_type": "code",
        "colab": {}
      },
      "source": [
        "# Will display performance on test-set, displaying the tuple [loss, acc]\n",
        "\n",
        "model.evaluate_generator(validation_generator, steps=STEP_SIZE_VALID)"
      ],
      "execution_count": 0,
      "outputs": []
    },
    {
      "cell_type": "code",
      "metadata": {
        "id": "eYSfGoAKmDYk",
        "colab_type": "code",
        "colab": {}
      },
      "source": [
        "# Setup prediction generator\n",
        "\n",
        "STEP_SIZE_TEST=test_generator.n//test_generator.batch_size\n",
        "\n",
        "test_generator.reset()\n",
        "predictions = model.predict_generator(test_generator,steps=STEP_SIZE_TEST, verbose=1)"
      ],
      "execution_count": 0,
      "outputs": []
    },
    {
      "cell_type": "code",
      "metadata": {
        "id": "TExQtm3J0AJ-",
        "colab_type": "code",
        "colab": {}
      },
      "source": [
        "predicted_class_indices=np.argmax(predictions,axis=1)"
      ],
      "execution_count": 0,
      "outputs": []
    },
    {
      "cell_type": "code",
      "metadata": {
        "id": "w0gPgMiLz5-a",
        "colab_type": "code",
        "colab": {}
      },
      "source": [
        "# Since the test generator outputs an array of probability, the following code splits these arrays to display what the network guessed vs ground truth\n",
        "\n",
        "labels = (train_generator.class_indices)\n",
        "labels = dict((v,k) for k,v in labels.items())\n",
        "predictions = [labels[k] for k in predicted_class_indices]"
      ],
      "execution_count": 0,
      "outputs": []
    },
    {
      "cell_type": "code",
      "metadata": {
        "id": "XxMXsO340EoM",
        "colab_type": "code",
        "colab": {}
      },
      "source": [
        "filenames=test_generator.filenames\n",
        "results=pd.DataFrame({\"Filename\":filenames,\n",
        "                      \"Predictions\":predictions})"
      ],
      "execution_count": 0,
      "outputs": []
    },
    {
      "cell_type": "code",
      "metadata": {
        "id": "QmMXIoGCOLVX",
        "colab_type": "code",
        "colab": {}
      },
      "source": [
        "# Separate DataFrame into Actual vs Predicted Columns for Comparison\n",
        "\n",
        "results[['Actual','Filename']] = results.Filename.str.split(\"/\",expand=True)"
      ],
      "execution_count": 0,
      "outputs": []
    },
    {
      "cell_type": "code",
      "metadata": {
        "id": "3u2T_smHOQ1N",
        "colab_type": "code",
        "colab": {}
      },
      "source": [
        "# Tag cases where columns are equal/non-equal (where the actual = predicted or actual =! predicted)\n",
        "\n",
        "results['Correct Prediction?'] = np.where(results['Predictions'] == results['Actual'], 'True','False')"
      ],
      "execution_count": 0,
      "outputs": []
    },
    {
      "cell_type": "code",
      "metadata": {
        "id": "YNC0sel2OQxp",
        "colab_type": "code",
        "colab": {}
      },
      "source": [
        "# Double check that DataFrame looks as expected\n",
        "\n",
        "results\n",
        "results.to_csv(\"results.csv\",index=False)"
      ],
      "execution_count": 0,
      "outputs": []
    },
    {
      "cell_type": "code",
      "metadata": {
        "id": "jyC_EohQOLeL",
        "colab_type": "code",
        "colab": {}
      },
      "source": [
        "# Convert Boolean Values to Numeric Total Counts\n",
        "\n",
        "create_prediction_count = results['Correct Prediction?'].value_counts()"
      ],
      "execution_count": 0,
      "outputs": []
    },
    {
      "cell_type": "code",
      "metadata": {
        "id": "_xMdTyzkOwRS",
        "colab_type": "code",
        "colab": {}
      },
      "source": [
        "# Isolate the cases of correct predictions\n",
        "\n",
        "correct_predictions = create_prediction_count['True']"
      ],
      "execution_count": 0,
      "outputs": []
    },
    {
      "cell_type": "code",
      "metadata": {
        "id": "2acGZHmbOwZr",
        "colab_type": "code",
        "colab": {}
      },
      "source": [
        "test_accuracy = ((correct_predictions)/(total_image_count*test_ratio))"
      ],
      "execution_count": 0,
      "outputs": []
    },
    {
      "cell_type": "code",
      "metadata": {
        "id": "h6xh3j1NOLow",
        "colab_type": "code",
        "colab": {}
      },
      "source": [
        "print(test_accuracy)"
      ],
      "execution_count": 0,
      "outputs": []
    },
    {
      "cell_type": "code",
      "metadata": {
        "id": "MpdzwJIg0JPR",
        "colab_type": "code",
        "colab": {}
      },
      "source": [
        "files.download(\"results.csv\")"
      ],
      "execution_count": 0,
      "outputs": []
    },
    {
      "cell_type": "code",
      "metadata": {
        "id": "H1_XRd5CIh1t",
        "colab_type": "code",
        "colab": {}
      },
      "source": [
        "model.save('model3.h5')"
      ],
      "execution_count": 0,
      "outputs": []
    },
    {
      "cell_type": "code",
      "metadata": {
        "id": "7A1bVG7KIjXk",
        "colab_type": "code",
        "colab": {}
      },
      "source": [
        "files.download(\"model3.h5\")"
      ],
      "execution_count": 0,
      "outputs": []
    },
    {
      "cell_type": "code",
      "metadata": {
        "id": "7Pqrf1k3fooB",
        "colab_type": "code",
        "colab": {}
      },
      "source": [
        "os.kill(os.getpid(), signal.SIGKILL)"
      ],
      "execution_count": 0,
      "outputs": []
    },
    {
      "cell_type": "markdown",
      "metadata": {
        "id": "-HZfUVsBsBtd",
        "colab_type": "text"
      },
      "source": [
        "## **5. Transfer Learning**\n"
      ]
    },
    {
      "cell_type": "markdown",
      "metadata": {
        "id": "OrgrpTsR4U6F",
        "colab_type": "text"
      },
      "source": [
        "### VGG16"
      ]
    },
    {
      "cell_type": "code",
      "metadata": {
        "id": "1WLplYfdsGOk",
        "colab_type": "code",
        "colab": {}
      },
      "source": [
        "# Creating variables referring to the paths of the training, testing, and validation sets to be used by the ImageDataGenerator\n",
        "\n",
        "train_dir = '/content/train'\n",
        "validation_dir = '/content/val'\n",
        "test_dir = '/content/test'"
      ],
      "execution_count": 0,
      "outputs": []
    },
    {
      "cell_type": "code",
      "metadata": {
        "id": "kVRhwHuSsRLL",
        "colab_type": "code",
        "colab": {}
      },
      "source": [
        "# Set Batch, Image Input, and Class Size\n",
        "\n",
        "BATCH_SIZE = 32\n",
        "IMG_HEIGHT = 256\n",
        "IMG_WIDTH = 256\n",
        "CHANNELS = 3\n",
        "num_classes = 270"
      ],
      "execution_count": 0,
      "outputs": []
    },
    {
      "cell_type": "code",
      "metadata": {
        "id": "kOkzcsYRsT7u",
        "colab_type": "code",
        "colab": {}
      },
      "source": [
        "# Setting up ImageDataGenerator\n",
        "\n",
        "image_generator = ImageDataGenerator(\n",
        "    rescale=1./255,\n",
        "    shear_range = 0.20, # displaces fixed points of images\n",
        "    zoom_range=0.2, # zooming factor into images\n",
        "    rotation_range=40,  # randomly rotate images in the range\n",
        "    width_shift_range=0.2,  # randomly shifts images horizontally\n",
        "    height_shift_range=0.2,  # randomly shifts images vertically\n",
        "    horizontal_flip=True)  # randomly flips images\n",
        "\n",
        "# Setting up generalized generator\n",
        "\n",
        "test_datagen = ImageDataGenerator(rescale=1./255)\n",
        "\n",
        "# Setup test generator\n",
        "train_generator = image_generator.flow_from_directory(\n",
        "      train_dir,\n",
        "      target_size = (IMG_HEIGHT,IMG_WIDTH),\n",
        "      shuffle = True,\n",
        "      batch_size = BATCH_SIZE,\n",
        "      color_mode=\"rgb\",\n",
        "      class_mode = 'categorical',\n",
        "      seed=42\n",
        ")\n",
        "\n",
        "# Setup validation generator\n",
        "\n",
        "validation_generator = test_datagen.flow_from_directory(\n",
        "      validation_dir,\n",
        "      target_size = (IMG_HEIGHT,IMG_WIDTH),\n",
        "      shuffle = True,\n",
        "      batch_size = BATCH_SIZE,\n",
        "      color_mode=\"rgb\",\n",
        "      class_mode = 'categorical',\n",
        "      seed=42\n",
        ")\n",
        "\n",
        "# Setup test generator\n",
        "\n",
        "test_generator = test_datagen.flow_from_directory(\n",
        "    test_dir,\n",
        "    target_size=(IMG_HEIGHT, IMG_WIDTH),\n",
        "    shuffle=False,\n",
        "    batch_size=1,\n",
        "    color_mode=\"rgb\",\n",
        "    class_mode=None,\n",
        "    seed=42\n",
        ")"
      ],
      "execution_count": 0,
      "outputs": []
    },
    {
      "cell_type": "code",
      "metadata": {
        "id": "jeifrHIztA7n",
        "colab_type": "code",
        "colab": {}
      },
      "source": [
        "# Insert VGG16 Base Network\n",
        "\n",
        "VGG16_conv_base = VGG16(weights = 'imagenet',\n",
        "                  include_top = False,\n",
        "                  input_shape = (IMG_HEIGHT,IMG_WIDTH,CHANNELS))"
      ],
      "execution_count": 0,
      "outputs": []
    },
    {
      "cell_type": "code",
      "metadata": {
        "id": "M_TxGrRttxV_",
        "colab_type": "code",
        "colab": {}
      },
      "source": [
        "# Preview what the architecture looks like\n",
        "\n",
        "VGG16_conv_base.summary()"
      ],
      "execution_count": 0,
      "outputs": []
    },
    {
      "cell_type": "code",
      "metadata": {
        "id": "KK8FskzEuAYs",
        "colab_type": "code",
        "colab": {}
      },
      "source": [
        "# Setting up transfer learning neural network with VGG16 base\n",
        "\n",
        "VGG16_model = models.Sequential()\n",
        "VGG16_model.add(VGG16_conv_base)\n",
        "VGG16_model.add(layers.Flatten())\n",
        "VGG16_model.add(layers.Dense(256,activation='relu'))\n",
        "VGG16_model.add(layers.Dense(num_classes,activation='softmax'))"
      ],
      "execution_count": 0,
      "outputs": []
    },
    {
      "cell_type": "code",
      "metadata": {
        "id": "JPihgzSZvGWt",
        "colab_type": "code",
        "colab": {}
      },
      "source": [
        "# Preview what the architecture looks like\n",
        "\n",
        "VGG16_model.summary()"
      ],
      "execution_count": 0,
      "outputs": []
    },
    {
      "cell_type": "code",
      "metadata": {
        "id": "4JXLV4Pgwr1t",
        "colab_type": "code",
        "colab": {}
      },
      "source": [
        "# Compiling the model above - must be run in order for training to commence\n",
        "\n",
        "VGG16_model.compile(loss='categorical_crossentropy',\n",
        "              optimizer=optimizers.RMSprop(lr=1e-4), \n",
        "              metrics=['acc'])"
      ],
      "execution_count": 0,
      "outputs": []
    },
    {
      "cell_type": "code",
      "metadata": {
        "id": "FsqPyI97i52d",
        "colab_type": "code",
        "colab": {}
      },
      "source": [
        "# Creating Folder to Store Checkpoints\n",
        "\n",
        "model_path = './vgg16_model'\n",
        "\n",
        "!if [ -d $model_path ]; then echo 'Directory Exists'; else mkdir $model_path; fi\n",
        "\n",
        "VGG16_filepath = model_path + \"/VGG16_weights-improvement-{epoch:02d}-{val_acc:.2f}.hdf5\"\n",
        "VGG16_checkpoint = ModelCheckpoint(VGG16_filepath, monitor='val_acc', verbose=1, save_best_only=True, mode='auto', period=1)"
      ],
      "execution_count": 0,
      "outputs": []
    },
    {
      "cell_type": "code",
      "metadata": {
        "id": "ZpkaJv5bjW_P",
        "colab_type": "code",
        "colab": {}
      },
      "source": [
        "# Early Stopping\n",
        "\n",
        "VGG16_early = EarlyStopping(monitor='val_acc', patience=10, verbose=1, mode='auto')"
      ],
      "execution_count": 0,
      "outputs": []
    },
    {
      "cell_type": "code",
      "metadata": {
        "id": "jmAWoLjvjY8O",
        "colab_type": "code",
        "colab": {}
      },
      "source": [
        "# Loading Early Stopping and Checkpoint into list for generator\n",
        "\n",
        "VGG16_callbacks_list = [VGG16_early, VGG16_checkpoint]"
      ],
      "execution_count": 0,
      "outputs": []
    },
    {
      "cell_type": "code",
      "metadata": {
        "id": "L72-TzcXwZYj",
        "colab_type": "code",
        "colab": {}
      },
      "source": [
        "# Initiating Training Generator\n",
        "\n",
        "VGG16_n_epoch = 1\n",
        "VGG16_STEP_SIZE_TRAIN=train_generator.n//train_generator.batch_size\n",
        "VGG16_STEP_SIZE_VALID=validation_generator.n//validation_generator.batch_size\n",
        "\n",
        "VGG16_history = VGG16_model.fit_generator(\n",
        "    generator=train_generator,\n",
        "    steps_per_epoch=VGG16_STEP_SIZE_TRAIN,\n",
        "    validation_data=validation_generator,\n",
        "    validation_steps=VGG16_STEP_SIZE_VALID,\n",
        "    callbacks=VGG16_callbacks_list,\n",
        "    epochs=VGG16_n_epoch)"
      ],
      "execution_count": 0,
      "outputs": []
    },
    {
      "cell_type": "code",
      "metadata": {
        "id": "PVwEdDf1x5mi",
        "colab_type": "code",
        "colab": {}
      },
      "source": [
        "# Plot the training and validation accuracy\n",
        "\n",
        "pd.DataFrame(VGG16_history.history).plot(figsize=(8, 5))\n",
        "plt.grid(True)\n",
        "plt.gca().set_ylim(0,1)\n",
        "plt.show()"
      ],
      "execution_count": 0,
      "outputs": []
    },
    {
      "cell_type": "code",
      "metadata": {
        "id": "QNUisJBV0ux8",
        "colab_type": "code",
        "colab": {}
      },
      "source": [
        "# Will display performance on test-set, displaying the tuple [loss, acc]\n",
        "\n",
        "VGG16_model.evaluate_generator(validation_generator, steps=VGG16_STEP_SIZE_VALID)"
      ],
      "execution_count": 0,
      "outputs": []
    },
    {
      "cell_type": "code",
      "metadata": {
        "id": "Oiv831kjqYjv",
        "colab_type": "code",
        "colab": {}
      },
      "source": [
        "# Setup prediction generator\n",
        "\n",
        "VGG16_STEP_SIZE_TEST=test_generator.n//test_generator.batch_size\n",
        "\n",
        "test_generator.reset()\n",
        "VGG16_predictions = VGG16_model.predict_generator(test_generator,steps=VGG16_STEP_SIZE_TEST, verbose=1)"
      ],
      "execution_count": 0,
      "outputs": []
    },
    {
      "cell_type": "code",
      "metadata": {
        "id": "mfJXzkNJqZQw",
        "colab_type": "code",
        "colab": {}
      },
      "source": [
        "VGG16_predicted_class_indices=np.argmax(VGG16_predictions,axis=1)"
      ],
      "execution_count": 0,
      "outputs": []
    },
    {
      "cell_type": "code",
      "metadata": {
        "id": "Ia6euKwcqf05",
        "colab_type": "code",
        "colab": {}
      },
      "source": [
        "# Since the test generator outputs an array of probability, the following code splits these arrays to display what the network guessed vs ground truth\n",
        "\n",
        "VGG16_labels = (train_generator.class_indices)\n",
        "VGG16_labels = dict((v,k) for k,v in VGG16_labels.items())\n",
        "VGG16_predictions = [VGG16_labels[k] for k in VGG16_predicted_class_indices]"
      ],
      "execution_count": 0,
      "outputs": []
    },
    {
      "cell_type": "code",
      "metadata": {
        "id": "AZhvb2xHqk9T",
        "colab_type": "code",
        "colab": {}
      },
      "source": [
        "VGG16_filenames=test_generator.filenames\n",
        "VGG16_results=pd.DataFrame({\"Filename\":VGG16_filenames,\n",
        "                      \"Predictions\":VGG16_predictions})"
      ],
      "execution_count": 0,
      "outputs": []
    },
    {
      "cell_type": "code",
      "metadata": {
        "id": "CfwHlEzqAkEr",
        "colab_type": "code",
        "colab": {}
      },
      "source": [
        "# Separate DataFrame into Actual vs Predicted Columns for Comparison\n",
        "\n",
        "VGG16_results[['Actual','Filename']] = VGG16_results.Filename.str.split(\"/\",expand=True)"
      ],
      "execution_count": 0,
      "outputs": []
    },
    {
      "cell_type": "code",
      "metadata": {
        "id": "Gut4nC-WG2Ol",
        "colab_type": "code",
        "colab": {}
      },
      "source": [
        "# Tag cases where columns are equal/non-equal (where the actual = predicted or actual =! predicted)\n",
        "\n",
        "VGG16_results['Correct Prediction?'] = np.where(VGG16_results['Predictions'] == VGG16_results['Actual'], 'True','False')"
      ],
      "execution_count": 0,
      "outputs": []
    },
    {
      "cell_type": "code",
      "metadata": {
        "id": "PxYiO9XbIQbi",
        "colab_type": "code",
        "colab": {}
      },
      "source": [
        "# Double check that DataFrame looks as expected\n",
        "\n",
        "VGG16_results"
      ],
      "execution_count": 0,
      "outputs": []
    },
    {
      "cell_type": "code",
      "metadata": {
        "id": "7QC1FQfwIXes",
        "colab_type": "code",
        "colab": {}
      },
      "source": [
        "# Convert Boolean Values to Numeric Total Counts\n",
        "\n",
        "VGG16_create_prediction_count = VGG16_results['Correct Prediction?'].value_counts()"
      ],
      "execution_count": 0,
      "outputs": []
    },
    {
      "cell_type": "code",
      "metadata": {
        "id": "3qEENfZjJa_g",
        "colab_type": "code",
        "colab": {}
      },
      "source": [
        "# Isolate the cases of correct predictions\n",
        "\n",
        "VGG16_correct_predictions = VGG16_create_prediction_count['True']"
      ],
      "execution_count": 0,
      "outputs": []
    },
    {
      "cell_type": "code",
      "metadata": {
        "id": "6S_STIL-JpGr",
        "colab_type": "code",
        "colab": {}
      },
      "source": [
        "VGG16_test_accuracy = ((VGG16_correct_predictions)/(total_image_count*test_ratio))"
      ],
      "execution_count": 0,
      "outputs": []
    },
    {
      "cell_type": "code",
      "metadata": {
        "id": "KWbljyq8J-q4",
        "colab_type": "code",
        "colab": {}
      },
      "source": [
        "print(VGG16_test_accuracy)"
      ],
      "execution_count": 0,
      "outputs": []
    },
    {
      "cell_type": "code",
      "metadata": {
        "id": "-xcFuvquqnhv",
        "colab_type": "code",
        "colab": {}
      },
      "source": [
        "# Uncomment the following if you'd like to download the actual versus prediction results\n",
        "\n",
        "files.download(\"results_VGG16.csv\")"
      ],
      "execution_count": 0,
      "outputs": []
    },
    {
      "cell_type": "markdown",
      "metadata": {
        "id": "KbPRl8bQAyYy",
        "colab_type": "text"
      },
      "source": [
        "### VGG19"
      ]
    },
    {
      "cell_type": "code",
      "metadata": {
        "id": "AKaR8FiBBLZj",
        "colab_type": "code",
        "colab": {}
      },
      "source": [
        "# Creating variables referring to the paths of the training, testing, and validation sets to be used by the ImageDataGenerator\n",
        "\n",
        "train_dir = '/content/train'\n",
        "validation_dir = '/content/val'\n",
        "test_dir = '/content/test'"
      ],
      "execution_count": 0,
      "outputs": []
    },
    {
      "cell_type": "code",
      "metadata": {
        "id": "sGwgI-NkBLnC",
        "colab_type": "code",
        "colab": {}
      },
      "source": [
        "# Set Batch, Image Input, and Class Size\n",
        "\n",
        "BATCH_SIZE = 32\n",
        "IMG_HEIGHT = 256\n",
        "IMG_WIDTH = 256\n",
        "CHANNELS = 3\n",
        "num_classes = 270"
      ],
      "execution_count": 0,
      "outputs": []
    },
    {
      "cell_type": "code",
      "metadata": {
        "id": "zvdDY72PBLvZ",
        "colab_type": "code",
        "colab": {}
      },
      "source": [
        "# Setting up ImageDataGenerator\n",
        "\n",
        "image_generator = ImageDataGenerator(\n",
        "    rescale=1./255,\n",
        "    shear_range = 0.20, # displaces fixed points of images\n",
        "    zoom_range=0.2, # zooming factor into images\n",
        "    rotation_range=40,  # randomly rotate images in the range\n",
        "    width_shift_range=0.2,  # randomly shifts images horizontally\n",
        "    height_shift_range=0.2,  # randomly shifts images vertically\n",
        "    horizontal_flip=True)  # randomly flips images\n",
        "\n",
        "# Setting up generalized generator\n",
        "\n",
        "test_datagen = ImageDataGenerator(rescale=1./255)\n",
        "\n",
        "# Setup test generator\n",
        "\n",
        "train_generator = image_generator.flow_from_directory(\n",
        "      train_dir,\n",
        "      target_size = (IMG_HEIGHT,IMG_WIDTH),\n",
        "      shuffle = True,\n",
        "      batch_size = BATCH_SIZE,\n",
        "      color_mode=\"rgb\",\n",
        "      class_mode = 'categorical',\n",
        "      seed=42\n",
        ")\n",
        "\n",
        "# Setup validation generator\n",
        "\n",
        "validation_generator = test_datagen.flow_from_directory(\n",
        "      validation_dir,\n",
        "      target_size = (IMG_HEIGHT,IMG_WIDTH),\n",
        "      shuffle = True,\n",
        "      batch_size = BATCH_SIZE,\n",
        "      color_mode=\"rgb\",\n",
        "      class_mode = 'categorical',\n",
        "      seed=42\n",
        ")\n",
        "\n",
        "# Setup test generator\n",
        "\n",
        "test_generator = test_datagen.flow_from_directory(\n",
        "    test_dir,\n",
        "    target_size=(IMG_HEIGHT, IMG_WIDTH),\n",
        "    shuffle=False,\n",
        "    batch_size=1,\n",
        "    color_mode=\"rgb\",\n",
        "    class_mode=None,\n",
        "    seed=42\n",
        ")"
      ],
      "execution_count": 0,
      "outputs": []
    },
    {
      "cell_type": "code",
      "metadata": {
        "id": "FGadQNHUBL4g",
        "colab_type": "code",
        "colab": {}
      },
      "source": [
        "# Insert VGG19 Base Network\n",
        "\n",
        "VGG19_conv_base = VGG19(weights = 'imagenet',\n",
        "                  include_top = False,\n",
        "                  input_shape = (256,256,3))"
      ],
      "execution_count": 0,
      "outputs": []
    },
    {
      "cell_type": "code",
      "metadata": {
        "id": "x-fkZ4dyBL_Z",
        "colab_type": "code",
        "colab": {}
      },
      "source": [
        "# Preview what the architecture looks like\n",
        "\n",
        "VGG19_conv_base.summary()"
      ],
      "execution_count": 0,
      "outputs": []
    },
    {
      "cell_type": "code",
      "metadata": {
        "id": "1PyaCFGMBMFt",
        "colab_type": "code",
        "colab": {}
      },
      "source": [
        "# Setting up transfer learning neural network with VGG19 base\n",
        "\n",
        "VGG19_model = models.Sequential()\n",
        "VGG19_model.add(VGG19_conv_base)\n",
        "VGG19_model.add(layers.Flatten())\n",
        "VGG19_model.add(layers.Dense(256,activation='relu'))\n",
        "VGG19_model.add(layers.Dense(num_classes,activation='softmax'))"
      ],
      "execution_count": 0,
      "outputs": []
    },
    {
      "cell_type": "code",
      "metadata": {
        "id": "FMY7lfLOBMMq",
        "colab_type": "code",
        "colab": {}
      },
      "source": [
        "# Preview what the architecture looks like\n",
        "\n",
        "VGG19_model.summary()"
      ],
      "execution_count": 0,
      "outputs": []
    },
    {
      "cell_type": "code",
      "metadata": {
        "id": "lSLlMeofBMVn",
        "colab_type": "code",
        "colab": {}
      },
      "source": [
        "# Compiling the model above - must be run in order for training to commence\n",
        "\n",
        "VGG19_model.compile(loss='categorical_crossentropy',\n",
        "              optimizer=optimizers.RMSprop(lr=1e-4), \n",
        "              metrics=['acc'])"
      ],
      "execution_count": 0,
      "outputs": []
    },
    {
      "cell_type": "code",
      "metadata": {
        "id": "VgASR-Y7vFVY",
        "colab_type": "code",
        "colab": {}
      },
      "source": [
        "# Creating Folder to Store Checkpoints\n",
        "\n",
        "model_path = './vgg19_model'\n",
        "\n",
        "!if [ -d $model_path ]; then echo 'Directory Exists'; else mkdir $model_path; fi\n",
        "\n",
        "VGG19_filepath = model_path + \"/VGG19_weights-improvement-{epoch:02d}-{val_acc:.2f}.hdf5\"\n",
        "VGG19_checkpoint = ModelCheckpoint(VGG19_filepath, monitor='val_acc', verbose=1, save_best_only=True, mode='auto', period=1)"
      ],
      "execution_count": 0,
      "outputs": []
    },
    {
      "cell_type": "code",
      "metadata": {
        "id": "JnmpeyO7vFeY",
        "colab_type": "code",
        "colab": {}
      },
      "source": [
        "# Early Stopping\n",
        "\n",
        "VGG19_early = EarlyStopping(monitor='val_acc', patience=10, verbose=1, mode='auto')"
      ],
      "execution_count": 0,
      "outputs": []
    },
    {
      "cell_type": "code",
      "metadata": {
        "id": "sYkA6wWwvFnI",
        "colab_type": "code",
        "colab": {}
      },
      "source": [
        "# Loading Early Stopping and Checkpoint into list for generator\n",
        "\n",
        "VGG19_callbacks_list = [VGG19_early, VGG19_checkpoint]"
      ],
      "execution_count": 0,
      "outputs": []
    },
    {
      "cell_type": "code",
      "metadata": {
        "id": "6cNdfo4xvQvs",
        "colab_type": "code",
        "colab": {}
      },
      "source": [
        "# Initiating Training Generator\n",
        "\n",
        "VGG19_n_epoch = 50\n",
        "VGG19_STEP_SIZE_TRAIN=train_generator.n//train_generator.batch_size\n",
        "VGG19_STEP_SIZE_VALID=validation_generator.n//validation_generator.batch_size\n",
        "\n",
        "VGG19_history = VGG19_model.fit_generator(\n",
        "    generator=train_generator,\n",
        "    steps_per_epoch=VGG19_STEP_SIZE_TRAIN,\n",
        "    validation_data=validation_generator,\n",
        "    validation_steps=VGG19_STEP_SIZE_VALID,\n",
        "    callbacks=VGG19_callbacks_list,\n",
        "    epochs=VGG19_n_epoch)"
      ],
      "execution_count": 0,
      "outputs": []
    },
    {
      "cell_type": "code",
      "metadata": {
        "id": "oCq3vrYsBMmT",
        "colab_type": "code",
        "colab": {}
      },
      "source": [
        "# Plot the training and validation accuracy\n",
        "\n",
        "pd.DataFrame(VGG19_history.history).plot(figsize=(8, 5))\n",
        "plt.grid(True)\n",
        "plt.gca().set_ylim(0,1)\n",
        "plt.show()"
      ],
      "execution_count": 0,
      "outputs": []
    },
    {
      "cell_type": "code",
      "metadata": {
        "id": "ctYj1Afpzde5",
        "colab_type": "code",
        "colab": {}
      },
      "source": [
        "# Will display performance on test-set, displaying the tuple [loss, acc]\n",
        "\n",
        "VGG19_model.evaluate_generator(validation_generator, steps=VGG19_STEP_SIZE_VALID)"
      ],
      "execution_count": 0,
      "outputs": []
    },
    {
      "cell_type": "code",
      "metadata": {
        "id": "-mACqX7Azd3R",
        "colab_type": "code",
        "colab": {}
      },
      "source": [
        "# Setup prediction generator\n",
        "\n",
        "VGG19_STEP_SIZE_TEST=test_generator.n//test_generator.batch_size\n",
        "\n",
        "test_generator.reset()\n",
        "VGG19_predictions = VGG19_model.predict_generator(test_generator,steps=VGG19_STEP_SIZE_TEST, verbose=1)"
      ],
      "execution_count": 0,
      "outputs": []
    },
    {
      "cell_type": "code",
      "metadata": {
        "id": "xR33do8uzeB-",
        "colab_type": "code",
        "colab": {}
      },
      "source": [
        "VGG19_predicted_class_indices=np.argmax(VGG19_predictions,axis=1)"
      ],
      "execution_count": 0,
      "outputs": []
    },
    {
      "cell_type": "code",
      "metadata": {
        "id": "OORRzzNMzePy",
        "colab_type": "code",
        "colab": {}
      },
      "source": [
        "# Since the test generator outputs an array of probability, the following code splits these arrays to display what the network guessed vs ground truth\n",
        "\n",
        "VGG19_labels = (train_generator.class_indices)\n",
        "VGG19_labels = dict((v,k) for k,v in VGG19_labels.items())\n",
        "VGG19_predictions = [VGG19_labels[k] for k in VGG19_predicted_class_indices]"
      ],
      "execution_count": 0,
      "outputs": []
    },
    {
      "cell_type": "code",
      "metadata": {
        "id": "yLrC6KTjzedB",
        "colab_type": "code",
        "colab": {}
      },
      "source": [
        "VGG19_filenames=test_generator.filenames\n",
        "VGG19_results=pd.DataFrame({\"Filename\":VGG19_filenames,\n",
        "                      \"Predictions\":VGG19_predictions})"
      ],
      "execution_count": 0,
      "outputs": []
    },
    {
      "cell_type": "code",
      "metadata": {
        "id": "Pvm7svoSh_zu",
        "colab_type": "code",
        "colab": {}
      },
      "source": [
        "# Separate DataFrame into Actual vs Predicted Columns for Comparison\n",
        "\n",
        "VGG19_results[['Actual','Filename']] = VGG19_results.Filename.str.split(\"/\",expand=True)"
      ],
      "execution_count": 0,
      "outputs": []
    },
    {
      "cell_type": "code",
      "metadata": {
        "id": "foLB8tTxh_9Z",
        "colab_type": "code",
        "colab": {}
      },
      "source": [
        "# Tag cases where columns are equal/non-equal (where the actual = predicted or actual =! predicted)\n",
        "\n",
        "VGG19_results['Correct Prediction?'] = np.where(VGG19_results['Predictions'] == VGG19_results['Actual'], 'True','False')"
      ],
      "execution_count": 0,
      "outputs": []
    },
    {
      "cell_type": "code",
      "metadata": {
        "id": "f6uOBQwZiAE7",
        "colab_type": "code",
        "colab": {}
      },
      "source": [
        "# Double check that DataFrame looks as expected\n",
        "\n",
        "VGG19_results\n",
        "\n",
        "#Option to export to CSV - uncomment if needed \n",
        "results.to_csv(\"results_VGG19.csv\",index=False)"
      ],
      "execution_count": 0,
      "outputs": []
    },
    {
      "cell_type": "code",
      "metadata": {
        "id": "gg2SS1uliJ7f",
        "colab_type": "code",
        "colab": {}
      },
      "source": [
        "# Convert Boolean Values to Numeric Total Counts\n",
        "\n",
        "VGG19_create_prediction_count = VGG19_results['Correct Prediction?'].value_counts()"
      ],
      "execution_count": 0,
      "outputs": []
    },
    {
      "cell_type": "code",
      "metadata": {
        "id": "HiuMnphXiKFB",
        "colab_type": "code",
        "colab": {}
      },
      "source": [
        "# Isolate the cases of correct predictions\n",
        "\n",
        "VGG19_correct_predictions = VGG19_create_prediction_count['True']"
      ],
      "execution_count": 0,
      "outputs": []
    },
    {
      "cell_type": "code",
      "metadata": {
        "id": "ZD_iV3FWi1e_",
        "colab_type": "code",
        "colab": {}
      },
      "source": [
        "VGG19_test_accuracy = ((VGG19_correct_predictions)/(total_image_count*test_ratio))"
      ],
      "execution_count": 0,
      "outputs": []
    },
    {
      "cell_type": "code",
      "metadata": {
        "id": "CnO7nRbzi1bT",
        "colab_type": "code",
        "colab": {}
      },
      "source": [
        "print(VGG19_test_accuracy)"
      ],
      "execution_count": 0,
      "outputs": []
    },
    {
      "cell_type": "code",
      "metadata": {
        "id": "fAdEOO1ci1YK",
        "colab_type": "code",
        "colab": {}
      },
      "source": [
        "# Uncomment the following if you'd like to download the actual versus prediction results\n",
        "\n",
        "files.download(\"results_VGG19.csv\")"
      ],
      "execution_count": 0,
      "outputs": []
    },
    {
      "cell_type": "markdown",
      "metadata": {
        "id": "W_T0c4oO4be6",
        "colab_type": "text"
      },
      "source": [
        "### Inception V3"
      ]
    },
    {
      "cell_type": "code",
      "metadata": {
        "id": "MfpZrYZV4a89",
        "colab_type": "code",
        "colab": {}
      },
      "source": [
        "# Creating variables referring to the paths of the training, testing, and validation sets to be used by the ImageDataGenerator\n",
        "\n",
        "train_dir = '/content/train'\n",
        "validation_dir = '/content/val'\n",
        "test_dir = '/content/test'"
      ],
      "execution_count": 0,
      "outputs": []
    },
    {
      "cell_type": "code",
      "metadata": {
        "id": "3b1ccWhy45oB",
        "colab_type": "code",
        "colab": {}
      },
      "source": [
        "# Set Batch, Image Input, and Class Size\n",
        "\n",
        "BATCH_SIZE = 32\n",
        "IMG_HEIGHT = 256\n",
        "IMG_WIDTH = 256\n",
        "CHANNELS = 3\n",
        "num_classes = 270"
      ],
      "execution_count": 0,
      "outputs": []
    },
    {
      "cell_type": "code",
      "metadata": {
        "id": "l9mHlVuj5Egz",
        "colab_type": "code",
        "colab": {}
      },
      "source": [
        "# Setting up ImageDataGenerator\n",
        "\n",
        "image_generator = ImageDataGenerator(\n",
        "    rescale=1./255,\n",
        "    shear_range = 0.20, # displaces fixed points of images\n",
        "    zoom_range=0.2, # zooming factor into images\n",
        "    rotation_range=40,  # randomly rotate images in the range\n",
        "    width_shift_range=0.2,  # randomly shifts images horizontally\n",
        "    height_shift_range=0.2,  # randomly shifts images vertically\n",
        "    horizontal_flip=True)  # randomly flips images\n",
        "\n",
        "# Setting up generalized generator\n",
        "\n",
        "test_datagen = ImageDataGenerator(rescale=1./255)\n",
        "\n",
        "# Setup test generator\n",
        "\n",
        "train_generator = image_generator.flow_from_directory(\n",
        "      train_dir,\n",
        "      target_size = (IMG_HEIGHT,IMG_WIDTH),\n",
        "      shuffle = True,\n",
        "      batch_size = BATCH_SIZE,\n",
        "      color_mode=\"rgb\",\n",
        "      class_mode = 'categorical',\n",
        "      seed=42\n",
        ")\n",
        "\n",
        "# Setup validation generator\n",
        "\n",
        "validation_generator = test_datagen.flow_from_directory(\n",
        "      validation_dir,\n",
        "      target_size = (IMG_HEIGHT,IMG_WIDTH),\n",
        "      shuffle = True,\n",
        "      batch_size = BATCH_SIZE,\n",
        "      color_mode=\"rgb\",\n",
        "      class_mode = 'categorical',\n",
        "      seed=42\n",
        ")\n",
        "\n",
        "# Setup test generator\n",
        "\n",
        "test_generator = test_datagen.flow_from_directory(\n",
        "    test_dir,\n",
        "    target_size=(IMG_HEIGHT, IMG_WIDTH),\n",
        "    shuffle=False,\n",
        "    batch_size=1,\n",
        "    color_mode=\"rgb\",\n",
        "    class_mode=None,\n",
        "    seed=42\n",
        ")"
      ],
      "execution_count": 0,
      "outputs": []
    },
    {
      "cell_type": "code",
      "metadata": {
        "id": "cyM2vOZx5JJL",
        "colab_type": "code",
        "colab": {}
      },
      "source": [
        "# Insert InceptionV3 Base Network\n",
        "\n",
        "InceptionV3_conv_base = InceptionV3(weights = 'imagenet',\n",
        "                  include_top = False,\n",
        "                  input_shape = (256,256,3))"
      ],
      "execution_count": 0,
      "outputs": []
    },
    {
      "cell_type": "code",
      "metadata": {
        "id": "F2ockLrG5Mhj",
        "colab_type": "code",
        "colab": {}
      },
      "source": [
        "# Preview what the architecture looks like\n",
        "\n",
        "InceptionV3_conv_base.summary()"
      ],
      "execution_count": 0,
      "outputs": []
    },
    {
      "cell_type": "code",
      "metadata": {
        "id": "pt4CXFKg5Qy3",
        "colab_type": "code",
        "colab": {}
      },
      "source": [
        "# Setting up transfer learning neural network with InceptionV3 base\n",
        "\n",
        "InceptionV3_model = models.Sequential()\n",
        "InceptionV3_model.add(InceptionV3_conv_base)\n",
        "InceptionV3_model.add(layers.Flatten())\n",
        "InceptionV3_model.add(layers.Dense(256,activation='relu'))\n",
        "InceptionV3_model.add(layers.Dense(num_classes,activation='softmax'))"
      ],
      "execution_count": 0,
      "outputs": []
    },
    {
      "cell_type": "code",
      "metadata": {
        "id": "rhmVjIQo5RZD",
        "colab_type": "code",
        "colab": {}
      },
      "source": [
        "# Preview what the architecture looks like\n",
        "\n",
        "InceptionV3_model.summary()"
      ],
      "execution_count": 0,
      "outputs": []
    },
    {
      "cell_type": "code",
      "metadata": {
        "id": "u6lAemch5rew",
        "colab_type": "code",
        "colab": {}
      },
      "source": [
        "# Compiling the model above - must be run in order for training to commence\n",
        "\n",
        "InceptionV3_model.compile(loss='categorical_crossentropy',\n",
        "              optimizer=optimizers.RMSprop(lr=1e-4), \n",
        "              metrics=['acc'])"
      ],
      "execution_count": 0,
      "outputs": []
    },
    {
      "cell_type": "code",
      "metadata": {
        "id": "2-uWi5IIzfyP",
        "colab_type": "code",
        "colab": {}
      },
      "source": [
        "# Creating Folder to Store Checkpoints\n",
        "\n",
        "model_path = './InceptionV3_model'\n",
        "\n",
        "!if [ -d $model_path ]; then echo 'Directory Exists'; else mkdir $model_path; fi\n",
        "\n",
        "InceptionV3_filepath = model_path + \"/InceptionV3_weights-improvement-{epoch:02d}-{val_acc:.2f}.hdf5\"\n",
        "InceptionV3_checkpoint = ModelCheckpoint(InceptionV3_filepath, monitor='val_acc', verbose=1, save_best_only=True, mode='auto', period=1)"
      ],
      "execution_count": 0,
      "outputs": []
    },
    {
      "cell_type": "code",
      "metadata": {
        "id": "9xPLCPglzgAr",
        "colab_type": "code",
        "colab": {}
      },
      "source": [
        "# Early Stopping\n",
        "\n",
        "InceptionV3_early = EarlyStopping(monitor='val_acc', patience=10, verbose=1, mode='auto')"
      ],
      "execution_count": 0,
      "outputs": []
    },
    {
      "cell_type": "code",
      "metadata": {
        "id": "xRtqte33zf9a",
        "colab_type": "code",
        "colab": {}
      },
      "source": [
        "# Loading Early Stopping and Checkpoint into list for generator\n",
        "\n",
        "InceptionV3_callbacks_list = [InceptionV3_early, InceptionV3_checkpoint]"
      ],
      "execution_count": 0,
      "outputs": []
    },
    {
      "cell_type": "code",
      "metadata": {
        "id": "T2HBIQ4X5xCm",
        "colab_type": "code",
        "colab": {}
      },
      "source": [
        "# Initiating Training Generator\n",
        "\n",
        "InceptionV3_n_epoch = 50\n",
        "InceptionV3_STEP_SIZE_TRAIN=train_generator.n//train_generator.batch_size\n",
        "InceptionV3_STEP_SIZE_VALID=validation_generator.n//validation_generator.batch_size\n",
        "\n",
        "InceptionV3_history = InceptionV3_model.fit_generator(\n",
        "    generator=train_generator,\n",
        "    steps_per_epoch=InceptionV3_STEP_SIZE_TRAIN,\n",
        "    validation_data=validation_generator,\n",
        "    validation_steps=InceptionV3_STEP_SIZE_VALID,\n",
        "    callbacks=InceptionV3_callbacks_list,\n",
        "    epochs=InceptionV3_n_epoch)"
      ],
      "execution_count": 0,
      "outputs": []
    },
    {
      "cell_type": "code",
      "metadata": {
        "id": "_3fJ6GOI5ztO",
        "colab_type": "code",
        "colab": {}
      },
      "source": [
        "# Plot the training and validation accuracy\n",
        "\n",
        "pd.DataFrame(InceptionV3_history.history).plot(figsize=(8, 5))\n",
        "plt.grid(True)\n",
        "plt.gca().set_ylim(0,1)\n",
        "plt.show()"
      ],
      "execution_count": 0,
      "outputs": []
    },
    {
      "cell_type": "code",
      "metadata": {
        "id": "y3-GqCmCz0Vi",
        "colab_type": "code",
        "colab": {}
      },
      "source": [
        "# Will display performance on test-set, displaying the tuple [loss, acc]\n",
        "\n",
        "InceptionV3_model.evaluate_generator(validation_generator, steps=InceptionV3_STEP_SIZE_VALID)"
      ],
      "execution_count": 0,
      "outputs": []
    },
    {
      "cell_type": "code",
      "metadata": {
        "id": "3ZWhQB6p1SxM",
        "colab_type": "code",
        "colab": {}
      },
      "source": [
        "# Setup prediction generator\n",
        "\n",
        "InceptionV3_STEP_SIZE_TEST=test_generator.n//test_generator.batch_size\n",
        "\n",
        "test_generator.reset()\n",
        "InceptionV3_predictions = InceptionV3_model.predict_generator(test_generator,steps=InceptionV3_STEP_SIZE_TEST, verbose=1)"
      ],
      "execution_count": 0,
      "outputs": []
    },
    {
      "cell_type": "code",
      "metadata": {
        "id": "XEiQI1ia1S6z",
        "colab_type": "code",
        "colab": {}
      },
      "source": [
        "InceptionV3_predicted_class_indices=np.argmax(InceptionV3_predictions,axis=1)"
      ],
      "execution_count": 0,
      "outputs": []
    },
    {
      "cell_type": "code",
      "metadata": {
        "id": "QuPsLj1E1TGU",
        "colab_type": "code",
        "colab": {}
      },
      "source": [
        "# Since the test generator outputs an array of probability, the following code splits these arrays to display what the network guessed vs ground truth\n",
        "\n",
        "InceptionV3_labels = (train_generator.class_indices)\n",
        "InceptionV3_labels = dict((v,k) for k,v in InceptionV3_labels.items())\n",
        "InceptionV3_predictions = [InceptionV3_labels[k] for k in InceptionV3_predicted_class_indices]"
      ],
      "execution_count": 0,
      "outputs": []
    },
    {
      "cell_type": "code",
      "metadata": {
        "id": "ygbc9aoJ1qc5",
        "colab_type": "code",
        "colab": {}
      },
      "source": [
        "InceptionV3_filenames=test_generator.filenames\n",
        "InceptionV3_results=pd.DataFrame({\"Filename\":InceptionV3_filenames,\n",
        "                      \"Predictions\":InceptionV3_predictions})"
      ],
      "execution_count": 0,
      "outputs": []
    },
    {
      "cell_type": "code",
      "metadata": {
        "id": "m6-GjusnkHTm",
        "colab_type": "code",
        "colab": {}
      },
      "source": [
        "# Separate DataFrame into Actual vs Predicted Columns for Comparison\n",
        "\n",
        "InceptionV3_results[['Actual','Filename']] = InceptionV3_results.Filename.str.split(\"/\",expand=True)"
      ],
      "execution_count": 0,
      "outputs": []
    },
    {
      "cell_type": "code",
      "metadata": {
        "id": "zCIl3_dakHvw",
        "colab_type": "code",
        "colab": {}
      },
      "source": [
        "# Tag cases where columns are equal/non-equal (where the actual = predicted or actual =! predicted)\n",
        "\n",
        "InceptionV3_results['Correct Prediction?'] = np.where(InceptionV3_results['Predictions'] == InceptionV3_results['Actual'], 'True','False')"
      ],
      "execution_count": 0,
      "outputs": []
    },
    {
      "cell_type": "code",
      "metadata": {
        "id": "3khEteXBkHsv",
        "colab_type": "code",
        "colab": {}
      },
      "source": [
        "# Double check that DataFrame looks as expected\n",
        "\n",
        "InceptionV3_results\n",
        "\n",
        "#Option to export to CSV - uncomment if needed \n",
        "InceptionV3_results.to_csv(\"InceptionV3_results.csv\",index=False)"
      ],
      "execution_count": 0,
      "outputs": []
    },
    {
      "cell_type": "code",
      "metadata": {
        "id": "KGFjHKytkHpd",
        "colab_type": "code",
        "colab": {}
      },
      "source": [
        "# Convert Boolean Values to Numeric Total Counts\n",
        "\n",
        "InceptionV3_create_prediction_count = InceptionV3_results['Correct Prediction?'].value_counts()"
      ],
      "execution_count": 0,
      "outputs": []
    },
    {
      "cell_type": "code",
      "metadata": {
        "id": "gO4WyM16kHmf",
        "colab_type": "code",
        "colab": {}
      },
      "source": [
        "# Isolate the cases of correct predictions\n",
        "\n",
        "InceptionV3_correct_predictions = InceptionV3_create_prediction_count['True']"
      ],
      "execution_count": 0,
      "outputs": []
    },
    {
      "cell_type": "code",
      "metadata": {
        "id": "0pxSdGzKkHjl",
        "colab_type": "code",
        "colab": {}
      },
      "source": [
        "InceptionV3_test_accuracy = ((InceptionV3_correct_predictions)/(total_image_count*test_ratio))"
      ],
      "execution_count": 0,
      "outputs": []
    },
    {
      "cell_type": "code",
      "metadata": {
        "id": "3TI2Wr3ckHgh",
        "colab_type": "code",
        "colab": {}
      },
      "source": [
        "print(InceptionV3_test_accuracy)"
      ],
      "execution_count": 0,
      "outputs": []
    },
    {
      "cell_type": "code",
      "metadata": {
        "id": "4bZGZHM5kHdg",
        "colab_type": "code",
        "colab": {}
      },
      "source": [
        "# Uncomment the following if you'd like to download the actual versus prediction results\n",
        "\n",
        "files.download(\"InceptionV3_results.csv\")"
      ],
      "execution_count": 0,
      "outputs": []
    },
    {
      "cell_type": "markdown",
      "metadata": {
        "id": "H-TyUDzZ7q4E",
        "colab_type": "text"
      },
      "source": [
        "### ResNet"
      ]
    },
    {
      "cell_type": "code",
      "metadata": {
        "id": "R2aBQOm87vGb",
        "colab_type": "code",
        "colab": {}
      },
      "source": [
        "# Creating variables referring to the paths of the training, testing, and validation sets to be used by the ImageDataGenerator\n",
        "\n",
        "train_dir = '/content/train'\n",
        "validation_dir = '/content/val'\n",
        "test_dir = '/content/test'"
      ],
      "execution_count": 0,
      "outputs": []
    },
    {
      "cell_type": "code",
      "metadata": {
        "id": "Z6L7CaDY7vmN",
        "colab_type": "code",
        "colab": {}
      },
      "source": [
        "# Set Batch, Image Input, and Class Size\n",
        "\n",
        "BATCH_SIZE = 32\n",
        "IMG_HEIGHT = 256\n",
        "IMG_WIDTH = 256\n",
        "CHANNELS = 3\n",
        "num_classes = 270"
      ],
      "execution_count": 0,
      "outputs": []
    },
    {
      "cell_type": "code",
      "metadata": {
        "id": "pAPZ-h1Z7vtD",
        "colab_type": "code",
        "colab": {}
      },
      "source": [
        "# Setting up ImageDataGenerator\n",
        "\n",
        "image_generator = ImageDataGenerator(\n",
        "    rescale=1./255,\n",
        "    shear_range = 0.20, # displaces fixed points of images\n",
        "    zoom_range=0.2, # zooming factor into images\n",
        "    rotation_range=40,  # randomly rotate images in the range\n",
        "    width_shift_range=0.2,  # randomly shifts images horizontally\n",
        "    height_shift_range=0.2,  # randomly shifts images vertically\n",
        "    horizontal_flip=True)  # randomly flips images\n",
        "\n",
        "# Setting up generalized generator\n",
        "\n",
        "test_datagen = ImageDataGenerator(rescale=1./255)\n",
        "\n",
        "# Setup test generator\n",
        "\n",
        "train_generator = image_generator.flow_from_directory(\n",
        "      train_dir,\n",
        "      target_size = (IMG_HEIGHT,IMG_WIDTH),\n",
        "      shuffle = True,\n",
        "      batch_size = BATCH_SIZE,\n",
        "      color_mode=\"rgb\",\n",
        "      class_mode = 'categorical',\n",
        "      seed=42\n",
        ")\n",
        "\n",
        "# Setup validation generator\n",
        "\n",
        "validation_generator = test_datagen.flow_from_directory(\n",
        "      validation_dir,\n",
        "      target_size = (IMG_HEIGHT,IMG_WIDTH),\n",
        "      shuffle = True,\n",
        "      batch_size = BATCH_SIZE,\n",
        "      color_mode=\"rgb\",\n",
        "      class_mode = 'categorical',\n",
        "      seed=42\n",
        ")\n",
        "\n",
        "# Setup test generator\n",
        "\n",
        "test_generator = test_datagen.flow_from_directory(\n",
        "    test_dir,\n",
        "    target_size=(IMG_HEIGHT, IMG_WIDTH),\n",
        "    shuffle=False,\n",
        "    batch_size=1,\n",
        "    color_mode=\"rgb\",\n",
        "    class_mode=None,\n",
        "    seed=42\n",
        ")"
      ],
      "execution_count": 0,
      "outputs": []
    },
    {
      "cell_type": "code",
      "metadata": {
        "id": "1xhDKau77vz9",
        "colab_type": "code",
        "colab": {}
      },
      "source": [
        "# Insert ResNet50 Base Network\n",
        "\n",
        "ResNet50_conv_base = ResNet50(weights = 'imagenet',\n",
        "                  include_top = False,\n",
        "                  input_shape=(IMG_HEIGHT,IMG_WIDTH,CHANNELS))"
      ],
      "execution_count": 0,
      "outputs": []
    },
    {
      "cell_type": "code",
      "metadata": {
        "id": "oaNJ2Egz7v6F",
        "colab_type": "code",
        "colab": {}
      },
      "source": [
        "# Preview what the architecture looks like\n",
        "\n",
        "ResNet50_conv_base.summary()"
      ],
      "execution_count": 0,
      "outputs": []
    },
    {
      "cell_type": "code",
      "metadata": {
        "id": "UYXv2M8_7wBY",
        "colab_type": "code",
        "colab": {}
      },
      "source": [
        "# Setting up transfer learning neural network with ResNet50 base\n",
        "\n",
        "ResNet50_model = models.Sequential()\n",
        "ResNet50_model.add(ResNet50_conv_base)\n",
        "ResNet50_model.add(layers.Flatten())\n",
        "ResNet50_model.add(layers.Dense(256,activation='relu'))\n",
        "ResNet50_model.add(layers.Dense(num_classes,activation='softmax'))"
      ],
      "execution_count": 0,
      "outputs": []
    },
    {
      "cell_type": "code",
      "metadata": {
        "id": "KQdHKhmy7wI-",
        "colab_type": "code",
        "colab": {}
      },
      "source": [
        "# Preview what the architecture looks like\n",
        "\n",
        "ResNet50_model.summary()"
      ],
      "execution_count": 0,
      "outputs": []
    },
    {
      "cell_type": "code",
      "metadata": {
        "id": "1Nyxl-r27yyt",
        "colab_type": "code",
        "colab": {}
      },
      "source": [
        "# Compiling the model above - must be run in order for training to commence\n",
        "\n",
        "ResNet50_model.compile(loss='categorical_crossentropy',\n",
        "              optimizer=optimizers.RMSprop(lr=1e-4), \n",
        "              metrics=['acc'])"
      ],
      "execution_count": 0,
      "outputs": []
    },
    {
      "cell_type": "code",
      "metadata": {
        "id": "n-V0apzB2da0",
        "colab_type": "code",
        "colab": {}
      },
      "source": [
        "# Creating Folder to Store Checkpoints\n",
        "\n",
        "model_path = './ResNet50_model'\n",
        "\n",
        "!if [ -d $model_path ]; then echo 'Directory Exists'; else mkdir $model_path; fi\n",
        "\n",
        "ResNet50_filepath = model_path + \"/ResNet50_weights-improvement-{epoch:02d}-{val_acc:.2f}.hdf5\"\n",
        "ResNet50_checkpoint = ModelCheckpoint(ResNet50_filepath, monitor='val_acc', verbose=1, save_best_only=True, mode='auto', period=1)"
      ],
      "execution_count": 0,
      "outputs": []
    },
    {
      "cell_type": "code",
      "metadata": {
        "id": "sYnjf7WK2egH",
        "colab_type": "code",
        "colab": {}
      },
      "source": [
        "# Early Stopping\n",
        "\n",
        "ResNet50_early = EarlyStopping(monitor='val_acc', patience=10, verbose=1, mode='auto')"
      ],
      "execution_count": 0,
      "outputs": []
    },
    {
      "cell_type": "code",
      "metadata": {
        "id": "UEq1lgsB2edo",
        "colab_type": "code",
        "colab": {}
      },
      "source": [
        "# Loading Early Stopping and Checkpoint into list for generator\n",
        "\n",
        "ResNet50_callbacks_list = [ResNet50_early, ResNet50_checkpoint]"
      ],
      "execution_count": 0,
      "outputs": []
    },
    {
      "cell_type": "code",
      "metadata": {
        "id": "G7VwdDOd2ebF",
        "colab_type": "code",
        "colab": {}
      },
      "source": [
        "# Initiating Training Generator\n",
        "\n",
        "ResNet50_n_epoch = 50\n",
        "ResNet50_STEP_SIZE_TRAIN=train_generator.n//train_generator.batch_size\n",
        "ResNet50_STEP_SIZE_VALID=validation_generator.n//validation_generator.batch_size\n",
        "\n",
        "ResNet50_history = ResNet50_model.fit_generator(\n",
        "    generator=train_generator,\n",
        "    steps_per_epoch=ResNet50_STEP_SIZE_TRAIN,\n",
        "    validation_data=validation_generator,\n",
        "    validation_steps=ResNet50_STEP_SIZE_VALID,\n",
        "    callbacks=ResNet50_callbacks_list,\n",
        "    epochs=ResNet50_n_epoch)"
      ],
      "execution_count": 0,
      "outputs": []
    },
    {
      "cell_type": "code",
      "metadata": {
        "id": "YnE6aeNP7zMy",
        "colab_type": "code",
        "colab": {}
      },
      "source": [
        "# Plot the training and validation accuracy\n",
        "\n",
        "pd.DataFrame(ResNet50_history.history).plot(figsize=(8, 5))\n",
        "plt.grid(True)\n",
        "plt.gca().set_ylim(0,1)\n",
        "plt.show()"
      ],
      "execution_count": 0,
      "outputs": []
    },
    {
      "cell_type": "code",
      "metadata": {
        "id": "8l8zaMAt2-Fm",
        "colab_type": "code",
        "colab": {}
      },
      "source": [
        "# Will display performance on test-set, displaying the tuple [loss, acc]\n",
        "\n",
        "ResNet50_model.evaluate_generator(validation_generator, steps=ResNet50_STEP_SIZE_VALID)"
      ],
      "execution_count": 0,
      "outputs": []
    },
    {
      "cell_type": "code",
      "metadata": {
        "id": "HYAvEOlA2GfM",
        "colab_type": "code",
        "colab": {}
      },
      "source": [
        "# Setup prediction generator\n",
        "\n",
        "ResNet50_STEP_SIZE_TEST=test_generator.n//test_generator.batch_size\n",
        "\n",
        "test_generator.reset()\n",
        "ResNet50_predictions = ResNet50_model.predict_generator(test_generator,steps=ResNet50_STEP_SIZE_TEST, verbose=1)"
      ],
      "execution_count": 0,
      "outputs": []
    },
    {
      "cell_type": "code",
      "metadata": {
        "id": "A73TwLEj2Go1",
        "colab_type": "code",
        "colab": {}
      },
      "source": [
        "ResNet50_predicted_class_indices=np.argmax(ResNet50_predictions,axis=1)"
      ],
      "execution_count": 0,
      "outputs": []
    },
    {
      "cell_type": "code",
      "metadata": {
        "colab_type": "code",
        "id": "T6ktPFiT2S-o",
        "colab": {}
      },
      "source": [
        "# Since the test generator outputs an array of probability, the following code splits these arrays to display what the network guessed vs ground truth\n",
        "\n",
        "ResNet50_labels = (train_generator.class_indices)\n",
        "ResNet50_labels = dict((v,k) for k,v in ResNet50_labels.items())\n",
        "ResNet50_predictions = [ResNet50_labels[k] for k in ResNet50_predicted_class_indices]"
      ],
      "execution_count": 0,
      "outputs": []
    },
    {
      "cell_type": "code",
      "metadata": {
        "id": "MUykJQf_2Gx7",
        "colab_type": "code",
        "colab": {}
      },
      "source": [
        "ResNet50_filenames=test_generator.filenames\n",
        "ResNet50_results=pd.DataFrame({\"Filename\":ResNet50_filenames,\n",
        "                      \"Predictions\":ResNet50_predictions})"
      ],
      "execution_count": 0,
      "outputs": []
    },
    {
      "cell_type": "code",
      "metadata": {
        "id": "_czAifbdlf1W",
        "colab_type": "code",
        "colab": {}
      },
      "source": [
        "# Separate DataFrame into Actual vs Predicted Columns for Comparison\n",
        "\n",
        "ResNet50_results[['Actual','Filename']] = ResNet50_results.Filename.str.split(\"/\",expand=True)"
      ],
      "execution_count": 0,
      "outputs": []
    },
    {
      "cell_type": "code",
      "metadata": {
        "id": "9gljSLVClgQC",
        "colab_type": "code",
        "colab": {}
      },
      "source": [
        "# Tag cases where columns are equal/non-equal (where the actual = predicted or actual =! predicted)\n",
        "\n",
        "ResNet50_results['Correct Prediction?'] = np.where(ResNet50_results['Predictions'] == ResNet50_results['Actual'], 'True','False')"
      ],
      "execution_count": 0,
      "outputs": []
    },
    {
      "cell_type": "code",
      "metadata": {
        "id": "6bRSLTMXlfyV",
        "colab_type": "code",
        "colab": {}
      },
      "source": [
        "# Double check that DataFrame looks as expected\n",
        "\n",
        "ResNet50_results\n",
        "\n",
        "#Option to export to CSV - uncomment if needed \n",
        "results.to_csv(\"results_ResNet50.csv\",index=False)"
      ],
      "execution_count": 0,
      "outputs": []
    },
    {
      "cell_type": "code",
      "metadata": {
        "id": "K730shtcl5N2",
        "colab_type": "code",
        "colab": {}
      },
      "source": [
        "# Convert Boolean Values to Numeric Total Counts\n",
        "\n",
        "ResNet50_create_prediction_count = ResNet50_results['Correct Prediction?'].value_counts()"
      ],
      "execution_count": 0,
      "outputs": []
    },
    {
      "cell_type": "code",
      "metadata": {
        "id": "9llt8oyplfvS",
        "colab_type": "code",
        "colab": {}
      },
      "source": [
        "# Isolate the cases of correct predictions\n",
        "\n",
        "ResNet50_correct_predictions = ResNet50_create_prediction_count['True']"
      ],
      "execution_count": 0,
      "outputs": []
    },
    {
      "cell_type": "code",
      "metadata": {
        "id": "Kjb3k6QclfsS",
        "colab_type": "code",
        "colab": {}
      },
      "source": [
        "ResNet50_test_accuracy = ((ResNet50_correct_predictions)/(total_image_count*test_ratio))"
      ],
      "execution_count": 0,
      "outputs": []
    },
    {
      "cell_type": "code",
      "metadata": {
        "id": "emmIp4hMlfpO",
        "colab_type": "code",
        "colab": {}
      },
      "source": [
        "print(ResNet50_test_accuracy)"
      ],
      "execution_count": 0,
      "outputs": []
    },
    {
      "cell_type": "code",
      "metadata": {
        "id": "qEa3UcmVlflR",
        "colab_type": "code",
        "colab": {}
      },
      "source": [
        "# Uncomment the following if you'd like to download the actual versus prediction results\n",
        "\n",
        "files.download(\"results_ResNet50.csv\")"
      ],
      "execution_count": 0,
      "outputs": []
    },
    {
      "cell_type": "markdown",
      "metadata": {
        "id": "1SI01M2h-sul",
        "colab_type": "text"
      },
      "source": [
        "### Xception"
      ]
    },
    {
      "cell_type": "code",
      "metadata": {
        "id": "u4EPjPTb-r_t",
        "colab_type": "code",
        "colab": {}
      },
      "source": [
        "# Creating variables referring to the paths of the training, testing, and validation sets to be used by the ImageDataGenerator\n",
        "\n",
        "train_dir = '/content/train'\n",
        "validation_dir = '/content/val'\n",
        "test_dir = '/content/test'"
      ],
      "execution_count": 0,
      "outputs": []
    },
    {
      "cell_type": "code",
      "metadata": {
        "id": "PDyoSlGa-xsP",
        "colab_type": "code",
        "colab": {}
      },
      "source": [
        "# Set Batch, Image Input, and Class Size\n",
        "\n",
        "BATCH_SIZE = 32\n",
        "IMG_HEIGHT = 256\n",
        "IMG_WIDTH = 256\n",
        "CHANNELS = 3\n",
        "num_classes = 270"
      ],
      "execution_count": 0,
      "outputs": []
    },
    {
      "cell_type": "code",
      "metadata": {
        "id": "FSHgSIwP-x7y",
        "colab_type": "code",
        "colab": {}
      },
      "source": [
        "# Setting up ImageDataGenerator\n",
        "\n",
        "image_generator = ImageDataGenerator(\n",
        "    rescale=1./255,\n",
        "    shear_range = 0.20, # displaces fixed points of images\n",
        "    zoom_range=0.2, # zooming factor into images\n",
        "    rotation_range=40,  # randomly rotate images in the range\n",
        "    width_shift_range=0.2,  # randomly shifts images horizontally\n",
        "    height_shift_range=0.2,  # randomly shifts images vertically\n",
        "    horizontal_flip=True)  # randomly flips images\n",
        "\n",
        "# Setting up generalized generator\n",
        "\n",
        "test_datagen = ImageDataGenerator(rescale=1./255)\n",
        "\n",
        "# Setup test generator\n",
        "\n",
        "train_generator = image_generator.flow_from_directory(\n",
        "      train_dir,\n",
        "      target_size = (IMG_HEIGHT,IMG_WIDTH),\n",
        "      shuffle = True,\n",
        "      batch_size = BATCH_SIZE,\n",
        "      color_mode=\"rgb\",\n",
        "      class_mode = 'categorical',\n",
        "      seed=42\n",
        ")\n",
        "\n",
        "# Setup validation generator\n",
        "\n",
        "validation_generator = test_datagen.flow_from_directory(\n",
        "      validation_dir,\n",
        "      target_size = (IMG_HEIGHT,IMG_WIDTH),\n",
        "      shuffle = True,\n",
        "      batch_size = BATCH_SIZE,\n",
        "      color_mode=\"rgb\",\n",
        "      class_mode = 'categorical',\n",
        "      seed=42\n",
        ")\n",
        "\n",
        "# Setup test generator\n",
        "\n",
        "test_generator = test_datagen.flow_from_directory(\n",
        "    test_dir,\n",
        "    target_size=(IMG_HEIGHT, IMG_WIDTH),\n",
        "    shuffle=False,\n",
        "    batch_size=1,\n",
        "    color_mode=\"rgb\",\n",
        "    class_mode=None,\n",
        "    seed=42\n",
        ")"
      ],
      "execution_count": 0,
      "outputs": []
    },
    {
      "cell_type": "code",
      "metadata": {
        "id": "F92VSGie-yVV",
        "colab_type": "code",
        "colab": {}
      },
      "source": [
        "# Insert Xception Base Network\n",
        "\n",
        "Xception_conv_base = Xception(include_top=False,\n",
        "                              weights='imagenet',\n",
        "                              input_shape=(IMG_HEIGHT,IMG_WIDTH,CHANNELS))"
      ],
      "execution_count": 0,
      "outputs": []
    },
    {
      "cell_type": "code",
      "metadata": {
        "id": "dCF3kqZS-zLu",
        "colab_type": "code",
        "colab": {}
      },
      "source": [
        "# Preview what the architecture looks like\n",
        "\n",
        "Xception_conv_base.summary()"
      ],
      "execution_count": 0,
      "outputs": []
    },
    {
      "cell_type": "code",
      "metadata": {
        "id": "OP9CdY-G-yTL",
        "colab_type": "code",
        "colab": {}
      },
      "source": [
        "# Setting up transfer learning neural network with Xception base\n",
        "\n",
        "Xception_model = models.Sequential()\n",
        "Xception_model.add(Xception_conv_base)\n",
        "Xception_model.add(layers.Flatten())\n",
        "Xception_model.add(layers.Dense(256,activation='relu'))\n",
        "Xception_model.add(layers.Dense(num_classes,activation='softmax'))"
      ],
      "execution_count": 0,
      "outputs": []
    },
    {
      "cell_type": "code",
      "metadata": {
        "id": "nBAIRRLJ-yQD",
        "colab_type": "code",
        "colab": {}
      },
      "source": [
        "# Preview what the architecture looks like\n",
        "\n",
        "Xception_model.summary()"
      ],
      "execution_count": 0,
      "outputs": []
    },
    {
      "cell_type": "code",
      "metadata": {
        "id": "f4oc5hAR-x5v",
        "colab_type": "code",
        "colab": {}
      },
      "source": [
        "# Compiling the model above - must be run in order for training to commence\n",
        "\n",
        "Xception_model.compile(loss='categorical_crossentropy',\n",
        "              optimizer=optimizers.RMSprop(lr=1e-4), \n",
        "              metrics=['acc'])"
      ],
      "execution_count": 0,
      "outputs": []
    },
    {
      "cell_type": "code",
      "metadata": {
        "id": "fwGAGJbB6anp",
        "colab_type": "code",
        "colab": {}
      },
      "source": [
        "# Creating Folder to Store Checkpoints\n",
        "\n",
        "model_path = './Xception_model'\n",
        "\n",
        "!if [ -d $model_path ]; then echo 'Directory Exists'; else mkdir $model_path; fi\n",
        "\n",
        "Xception_filepath = model_path + \"/Xception_weights-improvement-{epoch:02d}-{val_acc:.2f}.hdf5\"\n",
        "Xception_checkpoint = ModelCheckpoint(Xception_filepath, monitor='val_acc', verbose=1, save_best_only=True, mode='auto', period=1)"
      ],
      "execution_count": 0,
      "outputs": []
    },
    {
      "cell_type": "code",
      "metadata": {
        "id": "sbTNgUlv6ata",
        "colab_type": "code",
        "colab": {}
      },
      "source": [
        "# Early Stopping\n",
        "\n",
        "Xception_early = EarlyStopping(monitor='val_acc', patience=10, verbose=1, mode='auto')"
      ],
      "execution_count": 0,
      "outputs": []
    },
    {
      "cell_type": "code",
      "metadata": {
        "id": "d87bA4xw6aj4",
        "colab_type": "code",
        "colab": {}
      },
      "source": [
        "# Loading Early Stopping and Checkpoint into list for generator\n",
        "\n",
        "Xception_callbacks_list = [Xception_early, Xception_checkpoint]"
      ],
      "execution_count": 0,
      "outputs": []
    },
    {
      "cell_type": "code",
      "metadata": {
        "id": "OJ9L838d-xzY",
        "colab_type": "code",
        "colab": {}
      },
      "source": [
        "# Initiating Training Generator\n",
        "\n",
        "Xception_n_epoch = 50\n",
        "Xception_STEP_SIZE_TRAIN=train_generator.n//train_generator.batch_size\n",
        "Xception_STEP_SIZE_VALID=validation_generator.n//validation_generator.batch_size\n",
        "\n",
        "Xception_history = Xception_model.fit_generator(\n",
        "    generator=train_generator,\n",
        "    steps_per_epoch=Xception_STEP_SIZE_TRAIN,\n",
        "    validation_data=validation_generator,\n",
        "    validation_steps=Xception_STEP_SIZE_VALID,\n",
        "    callbacks=Xception_callbacks_list,\n",
        "    epochs=Xception_n_epoch)"
      ],
      "execution_count": 0,
      "outputs": []
    },
    {
      "cell_type": "code",
      "metadata": {
        "id": "NALviWYH-xwC",
        "colab_type": "code",
        "colab": {}
      },
      "source": [
        "# Plot the training and validation accuracy\n",
        "\n",
        "pd.DataFrame(Xception_history.history).plot(figsize=(8, 5))\n",
        "plt.grid(True)\n",
        "plt.gca().set_ylim(0,1)\n",
        "plt.show()"
      ],
      "execution_count": 0,
      "outputs": []
    },
    {
      "cell_type": "code",
      "metadata": {
        "id": "FYLddUZn7qDF",
        "colab_type": "code",
        "colab": {}
      },
      "source": [
        "# Will display performance on test-set, displaying the tuple [loss, acc]\n",
        "\n",
        "Xception_model.evaluate_generator(validation_generator, steps=Xception_STEP_SIZE_VALID)"
      ],
      "execution_count": 0,
      "outputs": []
    },
    {
      "cell_type": "code",
      "metadata": {
        "id": "7aj4FeHEEflX",
        "colab_type": "code",
        "colab": {}
      },
      "source": [
        "# Setup prediction generator\n",
        "\n",
        "Xception_STEP_SIZE_TEST=test_generator.n//test_generator.batch_size\n",
        "\n",
        "test_generator.reset()\n",
        "Xception_predictions = Xception_model.predict_generator(test_generator,steps=Xception_STEP_SIZE_TEST, verbose=1)"
      ],
      "execution_count": 0,
      "outputs": []
    },
    {
      "cell_type": "code",
      "metadata": {
        "id": "idCvemoBEftG",
        "colab_type": "code",
        "colab": {}
      },
      "source": [
        "Xception_model_predicted_class_indices=np.argmax(Xception_predictions,axis=1)"
      ],
      "execution_count": 0,
      "outputs": []
    },
    {
      "cell_type": "code",
      "metadata": {
        "id": "nL5g07OQEfp-",
        "colab_type": "code",
        "colab": {}
      },
      "source": [
        "# Since the test generator outputs an array of probability, the following code splits these arrays to display what the network guessed vs ground truth\n",
        "\n",
        "Xception_labels = (train_generator.class_indices)\n",
        "Xception_labels = dict((v,k) for k,v in Xception_labels.items())\n",
        "Xception_predictions = [Xception_labels[k] for k in Xception_model_predicted_class_indices]"
      ],
      "execution_count": 0,
      "outputs": []
    },
    {
      "cell_type": "code",
      "metadata": {
        "id": "x2NF3KXbEfVL",
        "colab_type": "code",
        "colab": {}
      },
      "source": [
        "Xception_model_filenames=test_generator.filenames\n",
        "Xception_results=pd.DataFrame({\"Filename\":Xception_model_filenames,\n",
        "                      \"Predictions\":Xception_predictions})"
      ],
      "execution_count": 0,
      "outputs": []
    },
    {
      "cell_type": "code",
      "metadata": {
        "id": "TWIbZClimwGE",
        "colab_type": "code",
        "colab": {}
      },
      "source": [
        "# Separate DataFrame into Actual vs Predicted Columns for Comparison\n",
        "\n",
        "Xception_results[['Actual','Filename']] = Xception_results.Filename.str.split(\"/\",expand=True)"
      ],
      "execution_count": 0,
      "outputs": []
    },
    {
      "cell_type": "code",
      "metadata": {
        "id": "2H3bAQMhmwh_",
        "colab_type": "code",
        "colab": {}
      },
      "source": [
        "# Tag cases where columns are equal/non-equal (where the actual = predicted or actual =! predicted)\n",
        "\n",
        "Xception_results['Correct Prediction?'] = np.where(Xception_results['Predictions'] == Xception_results['Actual'], 'True','False')"
      ],
      "execution_count": 0,
      "outputs": []
    },
    {
      "cell_type": "code",
      "metadata": {
        "id": "_ZBcYXFlmw3a",
        "colab_type": "code",
        "colab": {}
      },
      "source": [
        "# Double check that DataFrame looks as expected\n",
        "\n",
        "Xception_results\n",
        "\n",
        "#Option to export to CSV - uncomment if needed \n",
        "results.to_csv(\"results_Xception.csv\",index=False)"
      ],
      "execution_count": 0,
      "outputs": []
    },
    {
      "cell_type": "code",
      "metadata": {
        "id": "_rakhGHSmwe-",
        "colab_type": "code",
        "colab": {}
      },
      "source": [
        "# Convert Boolean Values to Numeric Total Counts\n",
        "\n",
        "Xception_create_prediction_count = Xception_results['Correct Prediction?'].value_counts()"
      ],
      "execution_count": 0,
      "outputs": []
    },
    {
      "cell_type": "code",
      "metadata": {
        "id": "F6WkEMFPmwb-",
        "colab_type": "code",
        "colab": {}
      },
      "source": [
        "# Isolate the cases of correct predictions\n",
        "\n",
        "Xception_correct_predictions = Xception_create_prediction_count['True']"
      ],
      "execution_count": 0,
      "outputs": []
    },
    {
      "cell_type": "code",
      "metadata": {
        "id": "9zPjzPX9mwY7",
        "colab_type": "code",
        "colab": {}
      },
      "source": [
        "Xception_test_accuracy = ((Xception_correct_predictions)/(total_image_count*test_ratio))"
      ],
      "execution_count": 0,
      "outputs": []
    },
    {
      "cell_type": "code",
      "metadata": {
        "id": "pPW0uYKXmwV4",
        "colab_type": "code",
        "colab": {}
      },
      "source": [
        "print(Xception_test_accuracy)"
      ],
      "execution_count": 0,
      "outputs": []
    },
    {
      "cell_type": "code",
      "metadata": {
        "id": "6a-dIw8lmwBz",
        "colab_type": "code",
        "colab": {}
      },
      "source": [
        "# Uncomment the following if you'd like to download the actual versus prediction results\n",
        "\n",
        "files.download(\"results_Xception.csv\")"
      ],
      "execution_count": 0,
      "outputs": []
    },
    {
      "cell_type": "markdown",
      "metadata": {
        "id": "V7BgtZaEtT_1",
        "colab_type": "text"
      },
      "source": [
        "## **Computing Image Similarity**"
      ]
    },
    {
      "cell_type": "markdown",
      "metadata": {
        "id": "pDCkhkBmKmJx",
        "colab_type": "text"
      },
      "source": [
        "### Image Similarity Through MSE & SSIM"
      ]
    },
    {
      "cell_type": "code",
      "metadata": {
        "id": "1a_4gsSnH5xd",
        "colab_type": "code",
        "colab": {}
      },
      "source": [
        "def mse(imageA, imageB):\n",
        "    err= np.sum((imageA.astype(\"float\") - imageB.astype(\"float\")) ** 2)\n",
        "    err /= float(imageA.shape[0] * imageA.shape[1])\n",
        "    return err"
      ],
      "execution_count": 0,
      "outputs": []
    },
    {
      "cell_type": "code",
      "metadata": {
        "id": "-f1okV5aH55Z",
        "colab_type": "code",
        "colab": {}
      },
      "source": [
        "def compare_image(imageA, imageB, title):\n",
        "    m= mse(imageA, imageB)\n",
        "    s= ssim(imageA, imageB)\n",
        "    fig= plt.figure(title)\n",
        "    plt.suptitle(\"MSE: %.2f, SSIM: %.2f\" % (m, s))    \n",
        "    \n",
        "    # displays first image with MSE & SSIM metrics\n",
        " \n",
        "    ax = fig.add_subplot(1, 2, 1)\n",
        "    plt.imshow(imageA, cmap = plt.cm.gray)\n",
        "    plt.axis(\"off\")\n",
        "\n",
        "    # displays second image with MSE & SSIM metrics\n",
        "\n",
        "    ax = fig.add_subplot(1, 2, 2)\n",
        "    plt.imshow(imageB, cmap = plt.cm.gray)\n",
        "    plt.axis(\"off\")\n",
        "    \n",
        "    plt.show()"
      ],
      "execution_count": 0,
      "outputs": []
    },
    {
      "cell_type": "code",
      "metadata": {
        "id": "7onwyH1hH6H-",
        "colab_type": "code",
        "colab": {}
      },
      "source": [
        "# Loads images from subset logo dataset\n",
        "\n",
        "logo_1= cv2.imread('/content/drive/My Drive/Similarity/Logos_21.png')\n",
        "logo_2= cv2.imread('/content/drive/My Drive/Similarity/Logos_1.png')\n",
        "logo_3= cv2.imread('/content/drive/My Drive/Similarity/Logos_196.png')\n",
        "\n",
        "logo_compare_1= cv2.imread('/content/drive/My Drive/Similarity/Logos_68.png')\n",
        "logo_compare_2= cv2.imread('/content/drive/My Drive/Similarity/Logos_103.png')\n",
        "logo_compare_3= cv2.imread('/content/drive/My Drive/Similarity/Logos_46.png')"
      ],
      "execution_count": 0,
      "outputs": []
    },
    {
      "cell_type": "code",
      "metadata": {
        "id": "tBygfe9FH6O3",
        "colab_type": "code",
        "colab": {}
      },
      "source": [
        "# Converts the images to grayscale to better apply the SSIM\n",
        "\n",
        "logo_1 = cv2.cvtColor(logo_1, cv2.COLOR_BGR2GRAY)\n",
        "logo_2 = cv2.cvtColor(logo_2, cv2.COLOR_BGR2GRAY)\n",
        "logo_3 = cv2.cvtColor(logo_3, cv2.COLOR_BGR2GRAY)\n",
        "\n",
        "logo_compare_1 = cv2.cvtColor(logo_compare_1, cv2.COLOR_BGR2GRAY)\n",
        "logo_compare_2 = cv2.cvtColor(logo_compare_2, cv2.COLOR_BGR2GRAY)\n",
        "logo_compare_3 = cv2.cvtColor(logo_compare_3, cv2.COLOR_BGR2GRAY)"
      ],
      "execution_count": 0,
      "outputs": []
    },
    {
      "cell_type": "code",
      "metadata": {
        "id": "d50OtQEPH6bR",
        "colab_type": "code",
        "colab": {}
      },
      "source": [
        "# labelling the ouputs with the comparison labels\n",
        "\n",
        "fig = plt.figure(\"Logo Comparison\")\n",
        "images = (\"First Logo\", logo_1), (\"Second Logo\", logo_2), (\"Third Logo\", logo_3),('First Comparison Logo', logo_compare_1), ('Second Comparison Logo', logo_compare_2), ('Third Comparison Logo', logo_compare_3)\n",
        "\n",
        "for (i, (name, image)) in enumerate(images):\n",
        "\n",
        "    ax = fig.add_subplot(1, 6, i + 1)\n",
        "\n",
        "    plt.imshow(image, cmap = plt.cm.gray)\n",
        "    plt.axis(\"off\")\n",
        "\n",
        "plt.show();"
      ],
      "execution_count": 0,
      "outputs": []
    },
    {
      "cell_type": "code",
      "metadata": {
        "id": "NLkYlo-DH6B-",
        "colab_type": "code",
        "colab": {}
      },
      "source": [
        "compare_image(logo_1, logo_1, 'same logo')"
      ],
      "execution_count": 0,
      "outputs": []
    },
    {
      "cell_type": "code",
      "metadata": {
        "id": "4gXyfGdMI7AA",
        "colab_type": "code",
        "colab": {}
      },
      "source": [
        "compare_image(logo_1, logo_compare_1, 'Logo 1 Comparison')\n",
        "compare_image(logo_2, logo_compare_2, 'Logo 2 Comparison')\n",
        "compare_image(logo_3, logo_compare_3, 'Logo 3 Comparison')"
      ],
      "execution_count": 0,
      "outputs": []
    },
    {
      "cell_type": "markdown",
      "metadata": {
        "id": "IAi9FnFdJn3H",
        "colab_type": "text"
      },
      "source": [
        "### Computing Image Similarity by using Euclidean Distance"
      ]
    },
    {
      "cell_type": "code",
      "metadata": {
        "id": "1v5qiIj9Jv3g",
        "colab_type": "code",
        "colab": {}
      },
      "source": [
        "logo_dataset_png_path = ['/content/drive/My Drive/Similarity/Logos_'+str(i)+'.png' for i in range(1,248)]"
      ],
      "execution_count": 0,
      "outputs": []
    },
    {
      "cell_type": "code",
      "metadata": {
        "id": "K0b11yFiJw1w",
        "colab_type": "code",
        "colab": {}
      },
      "source": [
        "logo_pics = [imread(path) for path in logo_dataset_png_path]"
      ],
      "execution_count": 0,
      "outputs": []
    },
    {
      "cell_type": "code",
      "metadata": {
        "id": "oumUASdRJxGi",
        "colab_type": "code",
        "colab": {}
      },
      "source": [
        "# resizes input image\n",
        "\n",
        "def resize(new_image):\n",
        "\n",
        "  with open(new_image, 'r+b') as f:\n",
        "    with Image.open(f) as original_image:\n",
        "      return np.array(original_image.resize([256,256]))"
      ],
      "execution_count": 0,
      "outputs": []
    },
    {
      "cell_type": "code",
      "metadata": {
        "id": "COe6j8gaJxDY",
        "colab_type": "code",
        "colab": {}
      },
      "source": [
        "# displays the input image and dataset match side-by-side\n",
        "\n",
        "def show_two_logos(input_logo, logo_from_dataset):\n",
        "  fig,(ax1, ax2) = plt.subplots(1,2, figsize = (10, 5))\n",
        "  for ax, title in zip([ax1,ax2],['Input Image','Closest Match']):\n",
        "      ax1.imshow(input_logo)\n",
        "      ax2.imshow(logo_pics[logo_from_dataset-1])\n",
        "      ax.set_title(title)\n",
        "  plt.show()\n"
      ],
      "execution_count": 0,
      "outputs": []
    },
    {
      "cell_type": "code",
      "metadata": {
        "id": "ZQ3G8S9yJxAL",
        "colab_type": "code",
        "colab": {}
      },
      "source": [
        "# computes euclidean distance\n",
        "\n",
        "def euclidean_distance(input_logo, logo_from_dataset):\n",
        "  first, second = input_logo, logo_pics[logo_from_dataset-1]\n",
        "  dist = 0 \n",
        "  for i in range(256):\n",
        "    for j in range(256):\n",
        "      dist += distance.euclidean(first[i][j], second[i][j])\n",
        "  return np.mean(dist)"
      ],
      "execution_count": 0,
      "outputs": []
    },
    {
      "cell_type": "code",
      "metadata": {
        "id": "Kkqj1PDgJw89",
        "colab_type": "code",
        "colab": {}
      },
      "source": [
        "# loops through images to compute euclidean distances between element-wise pixels\n",
        "\n",
        "def iterate_through_logos(input_logo):\n",
        "  return [(euclidean_distance(input_logo, i+1), i+1) for i in range (10)]"
      ],
      "execution_count": 0,
      "outputs": []
    },
    {
      "cell_type": "code",
      "metadata": {
        "id": "AaqEIcEQKbhh",
        "colab_type": "code",
        "colab": {}
      },
      "source": [
        "# composite function that will find the closest image to the input image\n",
        "\n",
        "def find_best_matching_logo(logo_image):\n",
        "  input_logo = resize(logo_image)\n",
        "  distances = iterate_through_logos(input_logo)\n",
        "  return show_two_logos(input_logo, (sorted(distances)[1][1]))"
      ],
      "execution_count": 0,
      "outputs": []
    },
    {
      "cell_type": "code",
      "metadata": {
        "id": "wwGIHFIuJwyn",
        "colab_type": "code",
        "colab": {}
      },
      "source": [
        "find_best_matching_logo('/content/drive/My Drive/Deloitte.png')"
      ],
      "execution_count": 0,
      "outputs": []
    }
  ]
}